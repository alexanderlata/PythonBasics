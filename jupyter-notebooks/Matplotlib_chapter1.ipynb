{
  "cells": [
    {
      "cell_type": "markdown",
      "metadata": {
        "id": "IdzXp29g2btg"
      },
      "source": [
        "## Библиотека `matplotlib`\n",
        "\n",
        "![logo_matplotlib.jpg](data:image/jpeg;base64,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)\n",
        "\n",
        "Есть несколько пакетов для построения графиков. Один из наиболее популярных — `matplotlib`. Если в `jupyter notebook` выполнить специальную магическую команду `%matplotlib inline`, то графики будут строиться в том же окне браузера. Есть другие варианты, в которых графики показываются в отдельных окнах. Это удобно для трёхмерных графиков — тогда их можно вертеть мышкой (в случае inline графиков это невозможно). Графики можно также сохранять в файлы, как в векторных форматах (`eps`, `pdf`, `svg`), так и в растровых (`png`, `jpg`). `matplotlib` позволяет строить двумерные графики практически всех нужных типов, с достаточно гибкой регулировкой их параметров; он также поддерживает основные типы трёхмерных графиков, но для серьёзной трёхмерной визуализации данных лучше пользоваться более мощными специализированными системами.\n",
        "\n",
        "Некоторые функции отрисовки\n",
        "* `plt.scatter(x, y, params)` — нарисовать точки с координатами из $x$ по горизонтальной оси и из $y$ по вертикальной оси;\n",
        "* `plt.plot(x, y, params)` — нарисовать график по точкам с координатами из $x$ по горизонтальной оси и из $y$ по вертикальной оси. Точки будут соединятся в том порядке, в котором они указаны в этих массивах;\n",
        "* `plt.fill_between(x, y1, y2, params)` — закрасить пространство между $y_1$ и $y_2$ по координатам из $x$;\n",
        "* `plt.pcolormesh(x1, x1, y, params)` — закрасить пространство в соответствии с интенсивностью $y$;\n",
        "* `plt.contour(x1, x1, y, lines)` — нарисовать линии уровня. Затем нужно применить `plt.clabel`.\n",
        "\n",
        "\n",
        "Вспомогательные функции\n",
        "* `plt.figure(figsize=(x, y))` — создать график размера $(x, y)$;\n",
        "* `plt.show()` — показать график;\n",
        "* `plt.subplot(...)` — добавить подграфик;\n",
        "* `plt.xlim(x_min, x_max)` — установить пределы графика по горизонтальной оси;\n",
        "* `plt.ylim(y_min, y_max)` — установить пределы графика по вертикальной оси;\n",
        "* `plt.title(name)` — установить имя графика;\n",
        "* `plt.xlabel(name)` — установить название горизонтальной оси;\n",
        "* `plt.ylabel(name)` — установить название вертикальной оси;\n",
        "* `plt.legend(loc=...)` — сделать легенду в позиции loc;\n",
        "* `plt.grid()` — добавить сетку на график;\n",
        "* `plt.savefig(filename)` — сохранить график в файл.\n",
        "\n",
        "Официальная документация по matplotlib - https://matplotlib.org/index.html.\n",
        "\n",
        "https://matplotlib.org/stable/gallery/index.html — тысячи примеров\n",
        "\n",
        "У функций в `matplotlib` много параметров.\n",
        "Для того, чтобы посмотреть все параметры, можно воспользоваться справкой, например,\n",
        "\n",
        "`plt.plot?`\n",
        "\n",
        "### 1. Простые графики"
      ]
    },
    {
      "cell_type": "code",
      "execution_count": null,
      "metadata": {
        "id": "osFiSoKb2bto"
      },
      "outputs": [],
      "source": [
        "import numpy as np\n",
        "import matplotlib.pyplot as plt\n",
        "\n",
        "%matplotlib inline"
      ]
    },
    {
      "cell_type": "markdown",
      "metadata": {
        "id": "-7p501qf2bto"
      },
      "source": [
        "Рисуем график с помощью списка $y$-координат; $x$-координаты образуют последовательность 0, 1, 2, ..."
      ]
    },
    {
      "cell_type": "code",
      "execution_count": null,
      "metadata": {
        "colab": {
          "base_uri": "https://localhost:8080/",
          "height": 265
        },
        "id": "sUUz4vdY2btp",
        "outputId": "140034b4-b164-4304-f4ad-e8b08acc70a2"
      },
      "outputs": [],
      "source": [
        "plt.figure()\n",
        "plt.plot([0, 1, 0.5])\n",
        "plt.show()"
      ]
    },
    {
      "cell_type": "markdown",
      "metadata": {
        "id": "bC8ViMxC2btp"
      },
      "source": [
        "Списки $x$ и $y$ координат точек. Точки соединяются прямыми, т.е. строится ломаная линия."
      ]
    },
    {
      "cell_type": "code",
      "execution_count": null,
      "metadata": {
        "colab": {
          "base_uri": "https://localhost:8080/",
          "height": 265
        },
        "id": "hKo-g8zS2btp",
        "outputId": "777371e4-33b5-45c3-9426-f1c678910dbb"
      },
      "outputs": [],
      "source": [
        "plt.figure()\n",
        "plt.plot([0, 0.25, 1], [0, 1, 0.5])\n",
        "plt.show()"
      ]
    },
    {
      "cell_type": "markdown",
      "metadata": {
        "id": "OUQft4M92btq"
      },
      "source": [
        "Функция `scatter` просто рисует точки, не соединяя их линиями."
      ]
    },
    {
      "cell_type": "code",
      "execution_count": null,
      "metadata": {
        "colab": {
          "base_uri": "https://localhost:8080/",
          "height": 265
        },
        "id": "aqt6kp0x2btq",
        "outputId": "86ea5faf-0cf4-44e8-fc64-901be91b4a21"
      },
      "outputs": [],
      "source": [
        "plt.figure()\n",
        "plt.scatter([0, 0.25, 1], [0, 1, 0.5])\n",
        "plt.show()"
      ]
    },
    {
      "cell_type": "markdown",
      "metadata": {
        "id": "cDDIUgcE2btq"
      },
      "source": [
        "$x$-координаты не обязаны монотонно возрастать. Тут, например, мы строим замкнутый многоугольник."
      ]
    },
    {
      "cell_type": "code",
      "execution_count": null,
      "metadata": {
        "colab": {
          "base_uri": "https://localhost:8080/",
          "height": 265
        },
        "id": "IfdB6LLv2btq",
        "outputId": "1ad27d1a-7f31-4b1e-fc46-b0c8c085ad82"
      },
      "outputs": [],
      "source": [
        "plt.figure()\n",
        "plt.plot([0, 0.25, 1, 0], [0, 1, 0.5, 0])\n",
        "plt.show()"
      ]
    },
    {
      "cell_type": "markdown",
      "metadata": {
        "id": "CAm9rq-b2btr"
      },
      "source": [
        "Когда точек много, ломаная неотличима от гладкой кривой."
      ]
    },
    {
      "cell_type": "code",
      "execution_count": null,
      "metadata": {
        "colab": {
          "base_uri": "https://localhost:8080/",
          "height": 265
        },
        "id": "aLaqBUD_2btr",
        "outputId": "c0733213-aed2-4e3a-ad42-ae2d7e4c9890"
      },
      "outputs": [],
      "source": [
        "x = np.linspace(0, 4 * np.pi, 100)\n",
        "\n",
        "plt.figure()\n",
        "plt.plot(x, np.sin(x))\n",
        "plt.show()"
      ]
    },
    {
      "cell_type": "markdown",
      "metadata": {
        "id": "uAY64FD42bts"
      },
      "source": [
        "Массив $x$ не обязан быть монотонно возрастающим. Можно строить любую параметрическую линию $x=x(t)$, $y=y(t)$."
      ]
    },
    {
      "cell_type": "code",
      "execution_count": null,
      "metadata": {
        "colab": {
          "base_uri": "https://localhost:8080/",
          "height": 265
        },
        "id": "kp_nsaJQ2bts",
        "outputId": "a568030e-c725-4d0d-d719-6e50f00c598c"
      },
      "outputs": [],
      "source": [
        "t = np.linspace(0, 2 * np.pi, 100)\n",
        "\n",
        "plt.figure(figsize=(4,4))\n",
        "plt.plot(np.cos(t), np.sin(t))\n",
        "plt.show()"
      ]
    },
    {
      "cell_type": "markdown",
      "metadata": {
        "id": "_NurXeud2bts"
      },
      "source": [
        "А вот одна из фигур Лиссажу."
      ]
    },
    {
      "cell_type": "code",
      "execution_count": null,
      "metadata": {
        "colab": {
          "base_uri": "https://localhost:8080/",
          "height": 265
        },
        "id": "taMflQfP2btt",
        "outputId": "db22a78f-908c-4df2-d2e5-20282a9d06f4"
      },
      "outputs": [],
      "source": [
        "plt.figure(figsize=(4,4))\n",
        "plt.plot(np.sin(2 * t), np.cos(3 * t))\n",
        "plt.show()"
      ]
    },
    {
      "cell_type": "markdown",
      "metadata": {
        "id": "13jzdsRV2btt"
      },
      "source": [
        "Несколько кривых на одном графике. Каждая задаётся парой массивов — $x$ и $y$ координаты. По умолчанию, им присваиваются цвета из некоторой последовательности цветов; разумеется, их можно изменить. Вообще говоря, подобным кодом не стоит пользоваться."
      ]
    },
    {
      "cell_type": "code",
      "execution_count": null,
      "metadata": {
        "colab": {
          "base_uri": "https://localhost:8080/",
          "height": 265
        },
        "id": "vNzr6soD2btt",
        "outputId": "56b922c1-3c5b-40e1-880e-9255ed830ab3"
      },
      "outputs": [],
      "source": [
        "x = np.linspace(0, 2, 100)\n",
        "\n",
        "plt.figure()\n",
        "plt.plot(x, x, x, x**2, x, x**3)\n",
        "plt.show()"
      ]
    },
    {
      "cell_type": "markdown",
      "metadata": {
        "id": "3E6hgCD_2btu"
      },
      "source": [
        "Для простой регулировки цветов и типов линий после пары $x$ и $y$ координат вставляется форматная строка. Первая буква определяет цвет (`'r'` — красный, `'b'` — синий и т.д.), дальше задаётся тип линии (`'-'` — сплошная, `'--'` — пунктирная, `'-.'` — штрих-пунктирная и т.д.)."
      ]
    },
    {
      "cell_type": "code",
      "execution_count": null,
      "metadata": {
        "colab": {
          "base_uri": "https://localhost:8080/",
          "height": 265
        },
        "id": "ZvIK1oVE2btu",
        "outputId": "f600588d-2a35-4780-9d7c-a42020223021"
      },
      "outputs": [],
      "source": [
        "x = np.linspace(0, 4 * np.pi, 100)\n",
        "\n",
        "plt.figure()\n",
        "plt.plot(x, np.sin(x), 'r-')\n",
        "plt.plot(x, np.cos(x), 'b--')\n",
        "plt.show()"
      ]
    },
    {
      "cell_type": "markdown",
      "metadata": {
        "id": "vKO2wZAj2btu"
      },
      "source": [
        "Если в качестве \"типа линии\" указано `'o'`, то это означает рисовать точки кружочками и не соединять их линиями; аналогично, `'s'` означает квадратики. Конечно, такие графики имеют смысл только тогда, когда точек не очень много."
      ]
    },
    {
      "cell_type": "code",
      "execution_count": null,
      "metadata": {
        "colab": {
          "base_uri": "https://localhost:8080/",
          "height": 265
        },
        "id": "ttwDiLl-2btu",
        "outputId": "26226fbe-42ea-4292-9e8f-d7827d93744a"
      },
      "outputs": [],
      "source": [
        "x = np.linspace(0, 1, 11)\n",
        "\n",
        "plt.figure()\n",
        "plt.plot(x, x ** 2, 'ro')\n",
        "plt.plot(x, 1 - x, 'gs')\n",
        "plt.show()"
      ]
    },
    {
      "cell_type": "markdown",
      "metadata": {
        "id": "gi1Wi-lU2btv"
      },
      "source": [
        "Вот пример настройки почти всего, что можно настроить. Можно задать последовательность засечек на оси $x$ (и $y$) и подписи к ним, в которых, как и в других текстах, можно использовать $\\LaTeX$-овские обозначения. Задать подписи осей $x$ и $y$ и заголовок графика. Во всех текстовых элементах можно задать размер шрифта. Можно задать толщину линий и штрихи. В примере ниже на графике косинуса рисуется штрих длины 8, потом участок длины 4 не рисуется, потом участок длины 2 рисуется, потом участок длины 4 опять не рисуется, и так по циклу; поскольку толщина линии равна 2, эти короткие штрихи длины 2 фактически выглядят как точки. Можно задать подписи к кривым (legend); где разместить эти подписи тоже можно регулировать."
      ]
    },
    {
      "cell_type": "code",
      "execution_count": null,
      "metadata": {
        "colab": {
          "base_uri": "https://localhost:8080/",
          "height": 386
        },
        "id": "XTTZ2Z3Z2btv",
        "outputId": "490e00b2-78bb-4a85-c641-be67ae0e4453"
      },
      "outputs": [],
      "source": [
        "x = np.linspace(0, 2 * np.pi, 100)\n",
        "\n",
        "plt.figure(figsize=(10, 5))\n",
        "plt.plot(x, np.sin(x), linewidth=2, color='g', dashes=[8, 4], label=r'$\\sin x$')\n",
        "plt.plot(x, np.cos(x), linewidth=2, color='r', dashes=[8, 4, 2, 4], label=r'$\\cos x$')\n",
        "plt.axis([0, 2 * np.pi, -1, 1])\n",
        "plt.xticks(np.linspace(0, 2 * np.pi, 9),  # Где сделать отметки\n",
        "           ('0',r'$\\frac{1}{4}\\pi$',r'$\\frac{1}{2}\\pi$',  # Как подписать\n",
        "            r'$\\frac{3}{4}\\pi$',r'$\\pi$',r'$\\frac{5}{4}\\pi$',\n",
        "            r'$\\frac{3}{2}\\pi$',r'$\\frac{7}{4}\\pi$',r'$2\\pi$'),\n",
        "           fontsize=20)\n",
        "plt.yticks(fontsize=12)\n",
        "plt.xlabel(r'$x$', fontsize=20)\n",
        "plt.ylabel(r'$y$', fontsize=20)\n",
        "plt.title(r'$\\sin x$, $\\cos x$', fontsize=20)\n",
        "plt.legend(fontsize=20, loc=0)\n",
        "plt.show()"
      ]
    },
    {
      "cell_type": "markdown",
      "metadata": {
        "id": "EpVUEotQ2btw"
      },
      "source": [
        "**Упражнение:** постройте пунктирный график функции $y = x^3$. Подпишите оси, заголовок и легенду. "
      ]
    },
    {
      "cell_type": "code",
      "execution_count": null,
      "metadata": {
        "colab": {
          "base_uri": "https://localhost:8080/",
          "height": 513
        },
        "id": "f8d3x54a2btw",
        "outputId": "4366344d-4773-4d57-f8bd-10039fdad121"
      },
      "outputs": [],
      "source": [
        "x = np.linspace(-2, 2, 100)\n",
        "\n",
        "plt.figure(figsize=(8, 8))\n",
        "plt.plot(x, x**3, linestyle='--', lw=2, label='$y=x^3$')\n",
        "plt.xlabel('x'), plt.ylabel('y')\n",
        "plt.legend()\n",
        "plt.title('График кубической параболы')\n",
        "plt.grid(ls=':')\n",
        "plt.show()"
      ]
    },
    {
      "cell_type": "markdown",
      "metadata": {
        "id": "61xqcCz72btw"
      },
      "source": [
        "Если `linestyle=''`, то точки не соединяются линиями. Сами точки рисуются маркерами разных типов. Тип определяется строкой из одного символа, который чем-то похож на нужный маркер. В добавок к стандартным маркерам, можно определить самодельные."
      ]
    },
    {
      "cell_type": "code",
      "execution_count": null,
      "metadata": {
        "colab": {
          "base_uri": "https://localhost:8080/",
          "height": 265
        },
        "id": "1kp688GW2btx",
        "outputId": "a830404a-2fe7-4741-a0ba-572753527b1e"
      },
      "outputs": [],
      "source": [
        "x = np.linspace(0, 1, 11)\n",
        "\n",
        "plt.figure(figsize=(4, 4))\n",
        "plt.plot(x, x, linestyle='', marker='<', markersize=20, markerfacecolor='#FF0000')\n",
        "plt.plot(x, x ** 2, linestyle='', marker='^', markersize=10, markerfacecolor='#00FF00')\n",
        "plt.plot(x, x ** (1/2), linestyle='', marker='v', markersize=10, markerfacecolor='#0000FF')\n",
        "plt.plot(x, 1 - x, linestyle='', marker='+', markersize=10, markerfacecolor='#0F0F00')\n",
        "plt.plot(x, 1 - x ** 2, linestyle='', marker='x', markersize=10, markerfacecolor='#0F000F')\n",
        "plt.axis([-0.05, 1.05, -0.05, 1.05])\n",
        "plt.show()"
      ]
    },
    {
      "cell_type": "markdown",
      "metadata": {
        "id": "MgSk8CiD2btx"
      },
      "source": [
        "\n",
        "Если $y$ меняется на много порядков, то удобно использовать логарифмический масштаб по $y$."
      ]
    },
    {
      "cell_type": "code",
      "execution_count": null,
      "metadata": {
        "colab": {
          "base_uri": "https://localhost:8080/",
          "height": 265
        },
        "id": "Qh2oitNN2btx",
        "outputId": "9ad743f1-ca1f-4a8a-f6c6-15b60f62f489"
      },
      "outputs": [],
      "source": [
        "x = np.linspace(-5, 5, 100)\n",
        "\n",
        "plt.figure()\n",
        "plt.plot(x, np.exp(x) + np.exp(-x))\n",
        "plt.yscale('log')\n",
        "plt.yticks(fontsize=15)\n",
        "plt.show()"
      ]
    },
    {
      "cell_type": "markdown",
      "metadata": {
        "id": "DU8ZHaZ82btx"
      },
      "source": [
        "Можно задать логарифмический масштаб по обоим осям."
      ]
    },
    {
      "cell_type": "code",
      "execution_count": null,
      "metadata": {
        "colab": {
          "base_uri": "https://localhost:8080/",
          "height": 274
        },
        "id": "FOm-4Xz52bty",
        "outputId": "a19f3540-38eb-4bc6-fe1e-bda2efa0eaa8"
      },
      "outputs": [],
      "source": [
        "x = np.logspace(-2, 2, 100)\n",
        "\n",
        "plt.figure()\n",
        "plt.plot(x, x + x ** 3)\n",
        "plt.xscale('log'), plt.xticks(fontsize=15)\n",
        "plt.yscale('log'), plt.yticks(fontsize=15)\n",
        "plt.show()"
      ]
    },
    {
      "cell_type": "markdown",
      "metadata": {
        "id": "3bsDbJoT2bty"
      },
      "source": [
        "### 2. Более сложные графики\n",
        "\n",
        "#### 2.1. Полярные координаты\n",
        "\n",
        "Первый массив — $\\varphi$, второй — $r$. Вот спираль."
      ]
    },
    {
      "cell_type": "code",
      "execution_count": null,
      "metadata": {
        "colab": {
          "base_uri": "https://localhost:8080/",
          "height": 286
        },
        "id": "CwAH_oBp2bty",
        "outputId": "0a87f91a-5388-401f-d470-032a24b43dac"
      },
      "outputs": [],
      "source": [
        "t = np.linspace(0, 4 * np.pi, 100)\n",
        "\n",
        "plt.figure()\n",
        "plt.polar(t, t)\n",
        "plt.show()"
      ]
    },
    {
      "cell_type": "markdown",
      "metadata": {
        "id": "du7jqViu2bty"
      },
      "source": [
        "А это угловое распределение пионов в $e^+ e^-$ аннигиляции."
      ]
    },
    {
      "cell_type": "code",
      "execution_count": null,
      "metadata": {
        "colab": {
          "base_uri": "https://localhost:8080/",
          "height": 286
        },
        "id": "5Zxy8MWO2btz",
        "outputId": "1ec645cb-a376-46c4-be20-b44c2c4f8f3f"
      },
      "outputs": [],
      "source": [
        "phi = np.linspace(0, 2 * np.pi, 100)\n",
        "\n",
        "plt.figure()\n",
        "plt.polar(phi, np.sin(phi) ** 2)\n",
        "plt.show()"
      ]
    },
    {
      "cell_type": "markdown",
      "metadata": {
        "id": "s-iJRSXT2btz"
      },
      "source": [
        "#### 2.2. Контурные графики\n",
        "\n",
        "Пусть мы хотим изучить поверхность $z=xy$. Вот её горизонтали."
      ]
    },
    {
      "cell_type": "code",
      "execution_count": null,
      "metadata": {
        "colab": {
          "base_uri": "https://localhost:8080/",
          "height": 324
        },
        "id": "nUAqCsmu2btz",
        "outputId": "a79ff974-2221-41f9-9722-82beb273f76f"
      },
      "outputs": [],
      "source": [
        "x = np.linspace(-1, 1, 50)\n",
        "y = x\n",
        "z = np.outer(x, y)\n",
        "\n",
        "plt.figure(figsize=(5,5))\n",
        "plt.contour(x, y, z)\n",
        "plt.show()"
      ]
    },
    {
      "cell_type": "markdown",
      "metadata": {
        "id": "dguOMIyu2btz"
      },
      "source": [
        "Что-то их маловато. Сделаем побольше и подпишем."
      ]
    },
    {
      "cell_type": "code",
      "execution_count": null,
      "metadata": {
        "colab": {
          "base_uri": "https://localhost:8080/",
          "height": 339
        },
        "id": "Sx0s-ICY2btz",
        "outputId": "2dba1495-91ce-465f-b68b-55b036ce1581"
      },
      "outputs": [],
      "source": [
        "plt.figure(figsize=(5,5))\n",
        "curves = plt.contour(x, y, z, np.linspace(-1, 1, 11))\n",
        "plt.clabel(curves)\n",
        "plt.title(r'$z=xy$', fontsize=20)\n",
        "plt.show()"
      ]
    },
    {
      "cell_type": "markdown",
      "metadata": {
        "id": "xXP64Ygo2btz"
      },
      "source": [
        "А здесь высота даётся цветом, как на физических географических картах. Функция `colorbar` показывает соответствие цветов и значений $z$."
      ]
    },
    {
      "cell_type": "code",
      "execution_count": null,
      "metadata": {
        "colab": {
          "base_uri": "https://localhost:8080/",
          "height": 324
        },
        "id": "LG6PwIsm2bt0",
        "outputId": "e788ec4f-3900-4d34-f8ef-0e09ce5c2e92"
      },
      "outputs": [],
      "source": [
        "plt.figure(figsize=(5,5))\n",
        "plt.contourf(x, y, z, np.linspace(-1, 1, 11))\n",
        "# plt.colorbar()\n",
        "plt.show()"
      ]
    },
    {
      "cell_type": "markdown",
      "metadata": {
        "id": "Bh9PP3XY2bt1"
      },
      "source": [
        "#### 2.3.  Трёхмерная линия\n",
        "\n",
        "Задаётся параметрически: $x=x(t)$, $y=y(t)$, $z=z(t)$."
      ]
    },
    {
      "cell_type": "code",
      "execution_count": null,
      "metadata": {
        "id": "GifE8kM42bt1"
      },
      "outputs": [],
      "source": [
        "t = np.linspace(0, 4 * np.pi, 100)\n",
        "x = np.cos(t)\n",
        "y = np.sin(t)\n",
        "z = t / (4 * np.pi)"
      ]
    },
    {
      "cell_type": "code",
      "execution_count": null,
      "metadata": {
        "colab": {
          "base_uri": "https://localhost:8080/",
          "height": 319
        },
        "id": "5MS8lmId2bt1",
        "outputId": "ffef2543-5806-4d44-e567-6b71db75153b"
      },
      "outputs": [],
      "source": [
        "fig = plt.figure()\n",
        "ax = fig.add_subplot(projection='3d')\n",
        "ax.plot(x, y, z)\n",
        "plt.show()"
      ]
    },
    {
      "cell_type": "markdown",
      "metadata": {
        "id": "PsWPKXUo2bt1"
      },
      "source": [
        "К сожалению, inline трёхмерную картинку нельзя вертеть мышкой. Это можно делать с трёхмерными картинками в отдельных окнах. Но можно задать, с какой стороны мы смотрим."
      ]
    },
    {
      "cell_type": "code",
      "execution_count": null,
      "metadata": {
        "colab": {
          "base_uri": "https://localhost:8080/",
          "height": 319
        },
        "id": "4XT5wdUm2bt1",
        "outputId": "1f6d708c-c04f-4408-a252-7a3519557351"
      },
      "outputs": [],
      "source": [
        "fig = plt.figure()\n",
        "ax = fig.add_subplot(projection='3d')\n",
        "ax.elev, ax.azim = 45, 30\n",
        "ax.plot(x, y, z)\n",
        "plt.show()"
      ]
    },
    {
      "cell_type": "code",
      "execution_count": null,
      "metadata": {},
      "outputs": [],
      "source": [
        "fig = plt.figure()\n",
        "ax = fig.add_subplot(projection='3d')\n",
        "\n",
        "# Prepare arrays x, y, z\n",
        "theta = np.linspace(-4 * np.pi, 4 * np.pi, 100)\n",
        "z = np.linspace(-2, 2, 100)\n",
        "r = z**2 + 1\n",
        "x = r * np.sin(theta)\n",
        "y = r * np.cos(theta)\n",
        "\n",
        "ax.plot(x, y, z, label='parametric curve')\n",
        "ax.legend()\n",
        "\n",
        "plt.show()"
      ]
    },
    {
      "cell_type": "markdown",
      "metadata": {
        "id": "1yi853FF2bt2"
      },
      "source": [
        "#### 2.4.  Поверхности\n",
        "\n",
        "Все поверхности параметрические: $x=x(u,v)$, $y=y(u,v)$, $z=z(u,v)$. Если мы хотим построить явную поверхность $z=z(x,y)$, то удобно создать массивы $x=u$ и $y=v$ функцией `meshgrid`."
      ]
    },
    {
      "cell_type": "code",
      "execution_count": null,
      "metadata": {
        "colab": {
          "base_uri": "https://localhost:8080/",
          "height": 319
        },
        "id": "eAE-m1D42bt2",
        "outputId": "f329e967-24cf-4628-eb7f-a926114ff1bd"
      },
      "outputs": [],
      "source": [
        "X = 10\n",
        "N = 50\n",
        "u = np.linspace(-X, X, N)\n",
        "x, y = np.meshgrid(u, u)\n",
        "r = np.sqrt(x ** 2 + y ** 2)\n",
        "z = np.sin(r) / r\n",
        "\n",
        "fig = plt.figure()\n",
        "ax = fig.add_subplot(projection='3d')\n",
        "ax.plot_surface(x, y, z, rstride=10, cstride=10)\n",
        "plt.show()"
      ]
    },
    {
      "cell_type": "markdown",
      "metadata": {
        "id": "5r2Cq8Zk2bt2"
      },
      "source": [
        "Есть много встроенных способов раскраски поверхностей. Так, в методе `gnuplot` цвет зависит от высоты $z$."
      ]
    },
    {
      "cell_type": "code",
      "execution_count": null,
      "metadata": {
        "colab": {
          "base_uri": "https://localhost:8080/",
          "height": 319
        },
        "id": "ZQ8-rXp82bt2",
        "outputId": "810f4285-4b7e-4cc6-d107-0b0536d2a01f"
      },
      "outputs": [],
      "source": [
        "fig = plt.figure()\n",
        "ax = fig.add_subplot(projection='3d')\n",
        "ax.plot_surface(x, y, z, rstride=1, cstride=1, cmap='gnuplot')\n",
        "plt.show()"
      ]
    },
    {
      "cell_type": "markdown",
      "metadata": {
        "id": "OOfguzeZ2bt2"
      },
      "source": [
        "Построим бублик — параметрическую поверхность с параметрами $\\theta$, $\\varphi$."
      ]
    },
    {
      "cell_type": "code",
      "execution_count": null,
      "metadata": {
        "colab": {
          "base_uri": "https://localhost:8080/",
          "height": 319
        },
        "id": "XxEy0_sI2bt3",
        "outputId": "855f5a01-5cf9-4816-b978-f6009ad3d329"
      },
      "outputs": [],
      "source": [
        "t = np.linspace(0, 2 * np.pi, 50)\n",
        "th, ph = np.meshgrid(t, t)\n",
        "r = 0.2\n",
        "x, y, z = (1 + r * np.cos(ph)) * np.cos(th), (1 + r * np.cos(ph)) * np.sin(th), r * np.sin(ph)\n",
        "\n",
        "fig = plt.figure()\n",
        "ax = fig.add_subplot(projection='3d')\n",
        "ax.elev = 60\n",
        "ax.plot_surface(x, y, z, rstride=2, cstride=1)\n",
        "plt.show()"
      ]
    },
    {
      "cell_type": "markdown",
      "metadata": {
        "id": "hgPgFxxF2bt3"
      },
      "source": [
        "---\n",
        "\n"
      ]
    }
  ],
  "metadata": {
    "colab": {
      "collapsed_sections": [],
      "name": "06_matplotlib.ipynb",
      "provenance": [],
      "toc_visible": true
    },
    "kernelspec": {
      "display_name": "Python 3",
      "language": "python",
      "name": "python3"
    },
    "language_info": {
      "codemirror_mode": {
        "name": "ipython",
        "version": 3
      },
      "file_extension": ".py",
      "mimetype": "text/x-python",
      "name": "python",
      "nbconvert_exporter": "python",
      "pygments_lexer": "ipython3",
      "version": "3.11.7"
    }
  },
  "nbformat": 4,
  "nbformat_minor": 0
}
