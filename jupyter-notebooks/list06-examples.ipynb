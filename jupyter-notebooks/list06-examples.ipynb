{
 "cells": [
  {
   "cell_type": "markdown",
   "metadata": {},
   "source": [
    "# Символьные вычисления в Python"
   ]
  },
  {
   "cell_type": "code",
   "execution_count": 3,
   "metadata": {},
   "outputs": [],
   "source": [
    "import sympy as sp # мы импортировали все данные из библиотеки в переменную sp"
   ]
  },
  {
   "cell_type": "markdown",
   "metadata": {},
   "source": [
    "## Упражнение 1 \"Выражение\""
   ]
  },
  {
   "cell_type": "code",
   "execution_count": 4,
   "metadata": {},
   "outputs": [
    {
     "data": {
      "text/latex": [
       "$\\displaystyle x^{2} + y^{3}$"
      ],
      "text/plain": [
       "x**2 + y**3"
      ]
     },
     "execution_count": 4,
     "metadata": {},
     "output_type": "execute_result"
    }
   ],
   "source": [
    "# зададим символьные переменные\n",
    "x, y = sp.symbols('x y', real=True)\n",
    "# зададим выражение\n",
    "a=x ** 2 + y ** 3\n",
    "a"
   ]
  },
  {
   "cell_type": "code",
   "execution_count": 5,
   "metadata": {},
   "outputs": [
    {
     "data": {
      "text/latex": [
       "$\\displaystyle 24$"
      ],
      "text/plain": [
       "24"
      ]
     },
     "execution_count": 5,
     "metadata": {},
     "output_type": "execute_result"
    }
   ],
   "source": [
    "# подстановка значений вместо переменных\n",
    "a.subs({x: 4,y: 2})"
   ]
  },
  {
   "cell_type": "markdown",
   "metadata": {},
   "source": [
    "<div class=\"alert alert-block alert-info\">\n",
    "\n",
    "__Мнимая единица задается командой `sp.I`__\n",
    "\n",
    "При создании символьной переменной параметр `real=True` означает, что символьная переменная является действительным числом. В противном случае, символьная переменная считается комплексным числом.\n",
    "\n",
    "</div>"
   ]
  },
  {
   "cell_type": "markdown",
   "metadata": {},
   "source": [
    "## Упражнение 2 \"Рациональные функции\""
   ]
  },
  {
   "cell_type": "code",
   "execution_count": 6,
   "metadata": {},
   "outputs": [
    {
     "data": {
      "text/latex": [
       "$\\displaystyle \\frac{2 x^{4} - 10 x^{3} + 7 x^{2} + 4 x + 3}{x^{5} - 2 x^{3} + 2 x^{2} - 3 x + 2}$"
      ],
      "text/plain": [
       "(2*x**4 - 10*x**3 + 7*x**2 + 4*x + 3)/(x**5 - 2*x**3 + 2*x**2 - 3*x + 2)"
      ]
     },
     "execution_count": 6,
     "metadata": {},
     "output_type": "execute_result"
    }
   ],
   "source": [
    "# зададим символьную переменную \n",
    "x = sp.Symbol('x', real=True)\n",
    "# зададим рациональную дробь\n",
    "a = (2 * x ** 4 -10 * x ** 3 + 7 * x ** 2 + 4 * x + 3) / (x ** 5 -2 * x ** 3 +2 * x ** 2 -3 * x + 2)\n",
    "a"
   ]
  },
  {
   "cell_type": "code",
   "execution_count": 7,
   "metadata": {},
   "outputs": [
    {
     "data": {
      "text/latex": [
       "$\\displaystyle \\frac{x - 3}{x^{2} + 1} + \\frac{3}{x + 2} - \\frac{2}{x - 1} + \\frac{1}{\\left(x - 1\\right)^{2}}$"
      ],
      "text/plain": [
       "(x - 3)/(x**2 + 1) + 3/(x + 2) - 2/(x - 1) + (x - 1)**(-2)"
      ]
     },
     "execution_count": 7,
     "metadata": {},
     "output_type": "execute_result"
    }
   ],
   "source": [
    "# разложение в сумму простейшиех дробей\n",
    "sp.apart(a,x)"
   ]
  },
  {
   "cell_type": "markdown",
   "metadata": {},
   "source": [
    "<div class=\"alert alert-block alert-warning\">  \n",
    "<b>Обращайте внимание на результат разложения рациональной дроби</b>\n",
    "\n",
    "В знаменателях простейших дробей может не быть многочленов вида \n",
    "\n",
    "$$(x- \\sqrt{a})^n$$\n",
    "</div>"
   ]
  },
  {
   "cell_type": "markdown",
   "metadata": {},
   "source": [
    "<div class=\"alert alert-block alert-info\">\n",
    "\n",
    "__Для деления многочлена на многочлен с остатком используйте метод `div`__\n",
    "\n",
    "\n",
    "</div>"
   ]
  },
  {
   "cell_type": "code",
   "execution_count": 41,
   "metadata": {},
   "outputs": [],
   "source": [
    "# зададим символьную переменную\n",
    "x = sp.Symbol('x', real=True)"
   ]
  },
  {
   "cell_type": "code",
   "execution_count": 42,
   "metadata": {},
   "outputs": [
    {
     "data": {
      "text/latex": [
       "$\\displaystyle x^{5} - 2 x^{3} + 2 x^{2} - 3 x + 2$"
      ],
      "text/plain": [
       "x**5 - 2*x**3 + 2*x**2 - 3*x + 2"
      ]
     },
     "execution_count": 42,
     "metadata": {},
     "output_type": "execute_result"
    }
   ],
   "source": [
    "# зададим многочлен f\n",
    "f = x ** 5 -2 * x ** 3 +2 * x ** 2 -3 * x + 2\n",
    "f"
   ]
  },
  {
   "cell_type": "code",
   "execution_count": 43,
   "metadata": {},
   "outputs": [
    {
     "data": {
      "text/latex": [
       "$\\displaystyle 2 x^{4} - 10 x^{3} + 7 x^{2} + 4 x + 3$"
      ],
      "text/plain": [
       "2*x**4 - 10*x**3 + 7*x**2 + 4*x + 3"
      ]
     },
     "execution_count": 43,
     "metadata": {},
     "output_type": "execute_result"
    }
   ],
   "source": [
    "# зададим многочлен g\n",
    "g = 2 * x ** 4 -10 * x ** 3 + 7 * x ** 2 + 4 * x + 3\n",
    "g"
   ]
  },
  {
   "cell_type": "code",
   "execution_count": 44,
   "metadata": {},
   "outputs": [],
   "source": [
    "# найдем неполное частное q и остаток от деления r\n",
    "q, r = sp.div(f, g)"
   ]
  },
  {
   "cell_type": "code",
   "execution_count": 45,
   "metadata": {},
   "outputs": [
    {
     "data": {
      "text/latex": [
       "$\\displaystyle \\frac{x}{2} + \\frac{5}{2}$"
      ],
      "text/plain": [
       "x/2 + 5/2"
      ]
     },
     "execution_count": 45,
     "metadata": {},
     "output_type": "execute_result"
    }
   ],
   "source": [
    "# неполное частное\n",
    "q"
   ]
  },
  {
   "cell_type": "code",
   "execution_count": 46,
   "metadata": {},
   "outputs": [
    {
     "data": {
      "text/latex": [
       "$\\displaystyle \\frac{39 x^{3}}{2} - \\frac{35 x^{2}}{2} - \\frac{29 x}{2} - \\frac{11}{2}$"
      ],
      "text/plain": [
       "39*x**3/2 - 35*x**2/2 - 29*x/2 - 11/2"
      ]
     },
     "execution_count": 46,
     "metadata": {},
     "output_type": "execute_result"
    }
   ],
   "source": [
    "# остаток от деления\n",
    "r"
   ]
  },
  {
   "cell_type": "markdown",
   "metadata": {},
   "source": [
    "## Упражнение 3 \"Уравнения и системы полиномиальных уравнений\""
   ]
  },
  {
   "cell_type": "code",
   "execution_count": 10,
   "metadata": {},
   "outputs": [
    {
     "data": {
      "text/latex": [
       "$\\displaystyle \\left[\\begin{matrix}0 & 0 & 1 & 1\\\\-2 & -4 & 1 & 0\\\\3 & 6 & 0 & 1\\end{matrix}\\right]$"
      ],
      "text/plain": [
       "Matrix([\n",
       "[ 0,  0, 1, 1],\n",
       "[-2, -4, 1, 0],\n",
       "[ 3,  6, 0, 1]])"
      ]
     },
     "execution_count": 10,
     "metadata": {},
     "output_type": "execute_result"
    }
   ],
   "source": [
    "# зададим матрицу коэффициентов\n",
    "A = sp.Matrix([[0,0,1,1], [-2,-4,1,0], [3, 6, 0,1]])\n",
    "A"
   ]
  },
  {
   "cell_type": "code",
   "execution_count": 11,
   "metadata": {},
   "outputs": [
    {
     "data": {
      "text/latex": [
       "$\\displaystyle \\left[\\begin{matrix}1\\\\0\\\\0\\end{matrix}\\right]$"
      ],
      "text/plain": [
       "Matrix([\n",
       "[1],\n",
       "[0],\n",
       "[0]])"
      ]
     },
     "execution_count": 11,
     "metadata": {},
     "output_type": "execute_result"
    }
   ],
   "source": [
    "# зададим вектор свободных членов\n",
    "b = sp.Matrix([1, 0, 0])\n",
    "b"
   ]
  },
  {
   "cell_type": "code",
   "execution_count": 12,
   "metadata": {},
   "outputs": [
    {
     "data": {
      "text/latex": [
       "$\\displaystyle \\left[\\begin{matrix}0 & 0 & 1 & 1 & 1\\\\-2 & -4 & 1 & 0 & 0\\\\3 & 6 & 0 & 1 & 0\\end{matrix}\\right]$"
      ],
      "text/plain": [
       "Matrix([\n",
       "[ 0,  0, 1, 1, 1],\n",
       "[-2, -4, 1, 0, 0],\n",
       "[ 3,  6, 0, 1, 0]])"
      ]
     },
     "execution_count": 12,
     "metadata": {},
     "output_type": "execute_result"
    }
   ],
   "source": [
    "# Расширенная матрица (A|b)\n",
    "A_b = A.col_insert(4, b)\n",
    "A_b"
   ]
  },
  {
   "cell_type": "code",
   "execution_count": 13,
   "metadata": {},
   "outputs": [
    {
     "data": {
      "text/plain": [
       "(3, 3)"
      ]
     },
     "execution_count": 13,
     "metadata": {},
     "output_type": "execute_result"
    }
   ],
   "source": [
    "#Ранги матриц\n",
    "A.rank(), A_b.rank()"
   ]
  },
  {
   "cell_type": "markdown",
   "metadata": {},
   "source": [
    "Вывод: система совместна"
   ]
  },
  {
   "cell_type": "code",
   "execution_count": 14,
   "metadata": {},
   "outputs": [
    {
     "data": {
      "text/plain": [
       "(Matrix([\n",
       " [1, 2, 0, 0, -1],\n",
       " [0, 0, 1, 0, -2],\n",
       " [0, 0, 0, 1,  3]]),\n",
       " (0, 2, 3))"
      ]
     },
     "execution_count": 14,
     "metadata": {},
     "output_type": "execute_result"
    }
   ],
   "source": [
    "# приведем систему к ступенчатому виду методом Гаусса\n",
    "A_b.rref()"
   ]
  },
  {
   "cell_type": "code",
   "execution_count": 15,
   "metadata": {},
   "outputs": [
    {
     "data": {
      "text/plain": [
       "{a: -2*b - 1, c: -2, d: 3}"
      ]
     },
     "execution_count": 15,
     "metadata": {},
     "output_type": "execute_result"
    }
   ],
   "source": [
    "# зададим символьные переменные\n",
    "a, b, c, d = sp.symbols('a b c d', real = True)\n",
    "# задаем уравнения, перенеся правые части влево\n",
    "eq1 = 0 * a + 0 * b + 1 * c + 1 * d - 1\n",
    "eq2 = -2 * a -4 * b + 1 * c + 0 * d + 0\n",
    "eq3 = 3 * a + 6 * b + 0 * c + 1 * d + 0\n",
    "# решение системы\n",
    "sp.solve([eq1, eq2, eq3],[a, b, c, d])"
   ]
  },
  {
   "cell_type": "markdown",
   "metadata": {},
   "source": [
    "## Упражнение 4 \"Ряд Тейлора\""
   ]
  },
  {
   "cell_type": "code",
   "execution_count": 16,
   "metadata": {},
   "outputs": [
    {
     "data": {
      "text/latex": [
       "$\\displaystyle \\tan{\\left(x \\right)}$"
      ],
      "text/plain": [
       "tan(x)"
      ]
     },
     "execution_count": 16,
     "metadata": {},
     "output_type": "execute_result"
    }
   ],
   "source": [
    "# зададим символьную переменную\n",
    "x = sp.Symbol('x', real = True)\n",
    "# зададим функцию\n",
    "f = sp.tan(x)\n",
    "f"
   ]
  },
  {
   "cell_type": "code",
   "execution_count": 17,
   "metadata": {},
   "outputs": [
    {
     "data": {
      "text/latex": [
       "$\\displaystyle x + \\frac{x^{3}}{3} + \\frac{2 x^{5}}{15} + \\frac{17 x^{7}}{315} + \\frac{62 x^{9}}{2835} + O\\left(x^{11}\\right)$"
      ],
      "text/plain": [
       "x + x**3/3 + 2*x**5/15 + 17*x**7/315 + 62*x**9/2835 + O(x**11)"
      ]
     },
     "execution_count": 17,
     "metadata": {},
     "output_type": "execute_result"
    }
   ],
   "source": [
    "# разложение в ряд Тейлора при x=0\n",
    "sp.series(f,x,0,n=11)"
   ]
  },
  {
   "cell_type": "markdown",
   "metadata": {},
   "source": [
    "## Упражнение 5 \"Пределы\""
   ]
  },
  {
   "cell_type": "code",
   "execution_count": 18,
   "metadata": {},
   "outputs": [
    {
     "data": {
      "text/latex": [
       "$\\displaystyle \\frac{- \\sin{\\left(x \\right)} + \\tan{\\left(x \\right)}}{x}$"
      ],
      "text/plain": [
       "(-sin(x) + tan(x))/x"
      ]
     },
     "execution_count": 18,
     "metadata": {},
     "output_type": "execute_result"
    }
   ],
   "source": [
    "# зададим символьную переменную\n",
    "x = sp.Symbol('x')\n",
    "# зададим функцию\n",
    "f =(sp.tan(x)-sp.sin(x))/(x)\n",
    "f"
   ]
  },
  {
   "cell_type": "code",
   "execution_count": 19,
   "metadata": {},
   "outputs": [
    {
     "data": {
      "text/latex": [
       "$\\displaystyle 0$"
      ],
      "text/plain": [
       "0"
      ]
     },
     "execution_count": 19,
     "metadata": {},
     "output_type": "execute_result"
    }
   ],
   "source": [
    "# односторонние предел: справа от нуля\n",
    "sp.limit(f,x,0,'+')"
   ]
  },
  {
   "cell_type": "code",
   "execution_count": 20,
   "metadata": {},
   "outputs": [
    {
     "data": {
      "text/latex": [
       "$\\displaystyle 0$"
      ],
      "text/plain": [
       "0"
      ]
     },
     "execution_count": 20,
     "metadata": {},
     "output_type": "execute_result"
    }
   ],
   "source": [
    "# односторонние предел: слева от нуля\n",
    "sp.limit(f,x,0,'-')"
   ]
  },
  {
   "cell_type": "code",
   "execution_count": 21,
   "metadata": {},
   "outputs": [
    {
     "data": {
      "text/latex": [
       "$\\displaystyle \\lim_{x \\to -\\infty}\\left(\\frac{- \\sin{\\left(x \\right)} + \\tan{\\left(x \\right)}}{x}\\right)$"
      ],
      "text/plain": [
       "Limit((-sin(x) + tan(x))/x, x, -oo, dir='+')"
      ]
     },
     "execution_count": 21,
     "metadata": {},
     "output_type": "execute_result"
    }
   ],
   "source": [
    "# предел на бесконечности\n",
    "sp.limit(f,x,-sp.oo)"
   ]
  },
  {
   "cell_type": "markdown",
   "metadata": {},
   "source": [
    "## Упражнение 6 \"Производные\""
   ]
  },
  {
   "cell_type": "code",
   "execution_count": 22,
   "metadata": {},
   "outputs": [
    {
     "data": {
      "text/latex": [
       "$\\displaystyle x \\sin{\\left(x + y \\right)}$"
      ],
      "text/plain": [
       "x*sin(x + y)"
      ]
     },
     "execution_count": 22,
     "metadata": {},
     "output_type": "execute_result"
    }
   ],
   "source": [
    "# зададим символьные переменные\n",
    "x, y = sp.symbols('x y', real = True)\n",
    "# зададим функцию\n",
    "z=x*sp.sin(x+y)\n",
    "z"
   ]
  },
  {
   "cell_type": "code",
   "execution_count": 23,
   "metadata": {},
   "outputs": [
    {
     "data": {
      "text/latex": [
       "$\\displaystyle x \\cos{\\left(x + y \\right)} + \\sin{\\left(x + y \\right)}$"
      ],
      "text/plain": [
       "x*cos(x + y) + sin(x + y)"
      ]
     },
     "execution_count": 23,
     "metadata": {},
     "output_type": "execute_result"
    }
   ],
   "source": [
    "# первая производная по x\n",
    "diff_z_x = sp.diff(z,x)\n",
    "diff_z_x"
   ]
  },
  {
   "cell_type": "code",
   "execution_count": 24,
   "metadata": {},
   "outputs": [
    {
     "data": {
      "text/latex": [
       "$\\displaystyle x \\cos{\\left(x + y \\right)}$"
      ],
      "text/plain": [
       "x*cos(x + y)"
      ]
     },
     "execution_count": 24,
     "metadata": {},
     "output_type": "execute_result"
    }
   ],
   "source": [
    "# первая производная по y\n",
    "diff_z_y = sp.diff(z,y)\n",
    "diff_z_y"
   ]
  },
  {
   "cell_type": "code",
   "execution_count": 25,
   "metadata": {},
   "outputs": [
    {
     "data": {
      "text/latex": [
       "$\\displaystyle - x \\sin{\\left(x + y \\right)} + 2 \\cos{\\left(x + y \\right)}$"
      ],
      "text/plain": [
       "-x*sin(x + y) + 2*cos(x + y)"
      ]
     },
     "execution_count": 25,
     "metadata": {},
     "output_type": "execute_result"
    }
   ],
   "source": [
    "# вторая производная по x\n",
    "diff_z_xx = sp.diff(z,x,2)\n",
    "diff_z_xx"
   ]
  },
  {
   "cell_type": "code",
   "execution_count": 26,
   "metadata": {},
   "outputs": [
    {
     "data": {
      "text/latex": [
       "$\\displaystyle - x \\sin{\\left(x + y \\right)} + \\cos{\\left(x + y \\right)}$"
      ],
      "text/plain": [
       "-x*sin(x + y) + cos(x + y)"
      ]
     },
     "execution_count": 26,
     "metadata": {},
     "output_type": "execute_result"
    }
   ],
   "source": [
    "# первая производная по x и первая по y\n",
    "diff_z_xy = sp.diff(z,x,y)\n",
    "diff_z_xy"
   ]
  },
  {
   "cell_type": "code",
   "execution_count": 27,
   "metadata": {},
   "outputs": [
    {
     "data": {
      "text/latex": [
       "$\\displaystyle - x \\sin{\\left(x + y \\right)} + \\cos{\\left(x + y \\right)}$"
      ],
      "text/plain": [
       "-x*sin(x + y) + cos(x + y)"
      ]
     },
     "execution_count": 27,
     "metadata": {},
     "output_type": "execute_result"
    }
   ],
   "source": [
    "# первая производная по y и первая по x\n",
    "diff_z_yx = sp.diff(z,y,x)\n",
    "diff_z_yx"
   ]
  },
  {
   "cell_type": "code",
   "execution_count": 28,
   "metadata": {},
   "outputs": [
    {
     "data": {
      "text/latex": [
       "$\\displaystyle - x \\sin{\\left(x + y \\right)} + 2 \\cos{\\left(x + y \\right)}$"
      ],
      "text/plain": [
       "-x*sin(x + y) + 2*cos(x + y)"
      ]
     },
     "execution_count": 28,
     "metadata": {},
     "output_type": "execute_result"
    }
   ],
   "source": [
    "# вторая производная по x\n",
    "diff_z_yy = sp.diff(z,x,2)\n",
    "diff_z_yy"
   ]
  },
  {
   "cell_type": "markdown",
   "metadata": {},
   "source": [
    "## Упражнение 7 \"Дифференциальные уравнения\""
   ]
  },
  {
   "cell_type": "markdown",
   "metadata": {},
   "source": [
    "Покажите, что функция $z = x^3 - xy^2 + y^3$ удовлетворяет данному дифференциальному уравнению $x \\cdot z^{\\prime}_x + y \\cdot z^{\\prime}_y = 2z$"
   ]
  },
  {
   "cell_type": "code",
   "execution_count": 29,
   "metadata": {},
   "outputs": [
    {
     "data": {
      "text/latex": [
       "$\\displaystyle x^{2} - x y + y^{2}$"
      ],
      "text/plain": [
       "x**2 - x*y + y**2"
      ]
     },
     "execution_count": 29,
     "metadata": {},
     "output_type": "execute_result"
    }
   ],
   "source": [
    "# зададим символьные переменные\n",
    "x, y = sp.symbols('x y', real = True)\n",
    "# зададим функцию\n",
    "z = x ** 2 - x * y + y ** 2\n",
    "z"
   ]
  },
  {
   "cell_type": "code",
   "execution_count": 30,
   "metadata": {},
   "outputs": [
    {
     "data": {
      "text/plain": [
       "True"
      ]
     },
     "execution_count": 30,
     "metadata": {},
     "output_type": "execute_result"
    }
   ],
   "source": [
    "# удовлетворяет данному дифференциальному уравнению\n",
    "sp.simplify(x * sp.diff(z,x) + y * sp.diff(z,y) - 2 * z) == 0"
   ]
  },
  {
   "cell_type": "markdown",
   "metadata": {},
   "source": [
    "## Упражнение 8 \"Интегралы\""
   ]
  },
  {
   "cell_type": "code",
   "execution_count": 31,
   "metadata": {},
   "outputs": [
    {
     "data": {
      "text/latex": [
       "$\\displaystyle \\frac{1}{x \\left(x^{2} - 2\\right)^{2}}$"
      ],
      "text/plain": [
       "1/(x*(x**2 - 2)**2)"
      ]
     },
     "execution_count": 31,
     "metadata": {},
     "output_type": "execute_result"
    }
   ],
   "source": [
    "# зададим символьную переменную\n",
    "x = sp.Symbol('x', real=True)\n",
    "# подынтегральная функция\n",
    "f = 1/(x*(x**2-2)**2)\n",
    "f"
   ]
  },
  {
   "cell_type": "code",
   "execution_count": 32,
   "metadata": {},
   "outputs": [
    {
     "data": {
      "text/latex": [
       "$\\displaystyle - \\frac{x}{4 \\left(x^{2} - 2\\right)} + \\frac{x}{2 \\left(x^{2} - 2\\right)^{2}} + \\frac{1}{4 x}$"
      ],
      "text/plain": [
       "-x/(4*(x**2 - 2)) + x/(2*(x**2 - 2)**2) + 1/(4*x)"
      ]
     },
     "execution_count": 32,
     "metadata": {},
     "output_type": "execute_result"
    }
   ],
   "source": [
    "# разложим на простейшие дроби\n",
    "sp.apart(f,x)"
   ]
  },
  {
   "cell_type": "markdown",
   "metadata": {},
   "source": [
    "<div class=\"alert alert-block alert-warning\">  \n",
    "<b>Обратите внимание на результат разложения рациональной дроби.</b>\n",
    "\n",
    "В знаменателях простейших дробей нет многочленов вида \n",
    "\n",
    "$$(x- \\sqrt{a})^n$$\n",
    "</div>"
   ]
  },
  {
   "cell_type": "code",
   "execution_count": 33,
   "metadata": {},
   "outputs": [
    {
     "data": {
      "text/latex": [
       "$\\displaystyle \\int \\frac{1}{x \\left(x^{2} - 2\\right)^{2}}\\, dx$"
      ],
      "text/plain": [
       "Integral(1/(x*(x**2 - 2)**2), x)"
      ]
     },
     "execution_count": 33,
     "metadata": {},
     "output_type": "execute_result"
    }
   ],
   "source": [
    "# напечатаем интеграл Ньютона\n",
    "F = sp.Integral(f,x)\n",
    "F"
   ]
  },
  {
   "cell_type": "code",
   "execution_count": 34,
   "metadata": {},
   "outputs": [
    {
     "data": {
      "text/latex": [
       "$\\displaystyle \\frac{\\log{\\left(x \\right)}}{4} - \\frac{\\log{\\left(x^{2} - 2 \\right)}}{8} - \\frac{1}{4 x^{2} - 8}$"
      ],
      "text/plain": [
       "log(x)/4 - log(x**2 - 2)/8 - 1/(4*x**2 - 8)"
      ]
     },
     "execution_count": 34,
     "metadata": {},
     "output_type": "execute_result"
    }
   ],
   "source": [
    "# вычислим интеграл Ньютона\n",
    "F.doit()"
   ]
  },
  {
   "cell_type": "code",
   "execution_count": 35,
   "metadata": {},
   "outputs": [
    {
     "data": {
      "text/latex": [
       "$\\displaystyle \\frac{\\log{\\left(x \\right)}}{4} - \\frac{\\log{\\left(x^{2} - 2 \\right)}}{8} - \\frac{1}{4 x^{2} - 8}$"
      ],
      "text/plain": [
       "log(x)/4 - log(x**2 - 2)/8 - 1/(4*x**2 - 8)"
      ]
     },
     "execution_count": 35,
     "metadata": {},
     "output_type": "execute_result"
    }
   ],
   "source": [
    "# вычисление интеграла Ньютона сразу\n",
    "F = sp.integrate(f,x)\n",
    "F"
   ]
  },
  {
   "cell_type": "markdown",
   "metadata": {},
   "source": [
    "<div class=\"alert alert-block alert-info\">  \n",
    "<b>Внимание:</b> Ниже приведены примеры вычисления интегралов Римана\n",
    "</div>"
   ]
  },
  {
   "cell_type": "code",
   "execution_count": 36,
   "metadata": {},
   "outputs": [
    {
     "data": {
      "text/latex": [
       "$\\displaystyle \\int\\limits_{0}^{\\infty} e^{- x}\\, dx$"
      ],
      "text/plain": [
       "Integral(exp(-x), (x, 0, oo))"
      ]
     },
     "execution_count": 36,
     "metadata": {},
     "output_type": "execute_result"
    }
   ],
   "source": [
    "# напечатаем интеграл Римана\n",
    "expr = sp.Integral(sp.exp(-x), (x, 0, sp.oo))\n",
    "expr"
   ]
  },
  {
   "cell_type": "code",
   "execution_count": 37,
   "metadata": {},
   "outputs": [
    {
     "data": {
      "text/latex": [
       "$\\displaystyle 1$"
      ],
      "text/plain": [
       "1"
      ]
     },
     "execution_count": 37,
     "metadata": {},
     "output_type": "execute_result"
    }
   ],
   "source": [
    "# вычислим интеграл Римана\n",
    "expr.doit()"
   ]
  },
  {
   "cell_type": "code",
   "execution_count": 38,
   "metadata": {},
   "outputs": [
    {
     "data": {
      "text/latex": [
       "$\\displaystyle 1$"
      ],
      "text/plain": [
       "1"
      ]
     },
     "execution_count": 38,
     "metadata": {},
     "output_type": "execute_result"
    }
   ],
   "source": [
    "# вычисление интеграла Ньютона сразу\n",
    "sp.integrate(sp.exp(-x), (x, 0, sp.oo))"
   ]
  },
  {
   "cell_type": "code",
   "execution_count": 39,
   "metadata": {},
   "outputs": [
    {
     "data": {
      "text/latex": [
       "$\\displaystyle \\int\\limits_{-\\infty}^{\\infty}\\int\\limits_{-\\infty}^{\\infty} e^{- x^{2} - y^{2}}\\, dx\\, dy$"
      ],
      "text/plain": [
       "Integral(exp(-x**2 - y**2), (x, -oo, oo), (y, -oo, oo))"
      ]
     },
     "execution_count": 39,
     "metadata": {},
     "output_type": "execute_result"
    }
   ],
   "source": [
    "sp.Integral(sp.exp(-x**2 - y**2), (x, -sp.oo, sp.oo), (y, -sp.oo, sp.oo))"
   ]
  },
  {
   "cell_type": "code",
   "execution_count": 40,
   "metadata": {},
   "outputs": [
    {
     "data": {
      "text/latex": [
       "$\\displaystyle \\pi$"
      ],
      "text/plain": [
       "pi"
      ]
     },
     "execution_count": 40,
     "metadata": {},
     "output_type": "execute_result"
    }
   ],
   "source": [
    "sp.integrate(sp.exp(-x**2 - y**2), (x, -sp.oo, sp.oo), (y, -sp.oo, sp.oo))"
   ]
  }
 ],
 "metadata": {
  "kernelspec": {
   "display_name": "courses",
   "language": "python",
   "name": "python3"
  },
  "language_info": {
   "codemirror_mode": {
    "name": "ipython",
    "version": 3
   },
   "file_extension": ".py",
   "mimetype": "text/x-python",
   "name": "python",
   "nbconvert_exporter": "python",
   "pygments_lexer": "ipython3",
   "version": "3.11.7"
  }
 },
 "nbformat": 4,
 "nbformat_minor": 2
}
