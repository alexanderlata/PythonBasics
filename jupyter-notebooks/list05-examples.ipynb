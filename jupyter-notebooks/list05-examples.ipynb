{
 "cells": [
  {
   "cell_type": "markdown",
   "metadata": {},
   "source": [
    "# Численные методы в Python"
   ]
  },
  {
   "cell_type": "code",
   "execution_count": 1,
   "metadata": {},
   "outputs": [],
   "source": [
    "import numpy as np\n",
    "import pandas as pd\n",
    "import matplotlib.pyplot as plt\n",
    "from scipy.optimize import minimize_scalar"
   ]
  },
  {
   "cell_type": "markdown",
   "metadata": {},
   "source": [
    "## Упражнение 1 \"Действия над матрицами\""
   ]
  },
  {
   "cell_type": "code",
   "execution_count": 2,
   "metadata": {},
   "outputs": [
    {
     "name": "stdout",
     "output_type": "stream",
     "text": [
      "Матрица A:\n",
      " [[1 0]\n",
      " [0 1]]\n",
      "Матрица B:\n",
      " [[4 1]\n",
      " [2 2]]\n",
      "Произведение матриц AB:\n",
      " [[4 1]\n",
      " [2 2]]\n"
     ]
    }
   ],
   "source": [
    "# задаем матрицу A\n",
    "A = np.array([[1, 0], \n",
    "              [0, 1]])\n",
    "# задаем матрицу B\n",
    "B = np.array([[4, 1], \n",
    "              [2, 2]])\n",
    "# вычисляем произведение матриц A и B\n",
    "AB = np.dot(A, B)\n",
    "print (\"Матрица A:\\n\", A)\n",
    "print (\"Матрица B:\\n\", B)\n",
    "print (\"Произведение матриц AB:\\n\", AB)"
   ]
  },
  {
   "cell_type": "markdown",
   "metadata": {},
   "source": [
    "## Упражнение 2 \"Системы линейных уравнений\"\n",
    "\n",
    "Решите систему линейных уравнений тремя способами: \n",
    "а) методом `numpy.linalg.solve`\n",
    "б) методом Крамера (реализуйте метод самостоятельно)\n",
    "в) методом обратной матрицы (реализуйте метод самостоятельно)"
   ]
  },
  {
   "cell_type": "markdown",
   "metadata": {},
   "source": [
    "а) методом `numpy.linalg.solve`"
   ]
  },
  {
   "cell_type": "code",
   "execution_count": 3,
   "metadata": {},
   "outputs": [
    {
     "name": "stdout",
     "output_type": "stream",
     "text": [
      "Матрица A:\n",
      " [[3 1]\n",
      " [1 2]]\n",
      "Вектор b:\n",
      " [9 8]\n",
      "Решение системы:\n",
      " [2. 3.]\n"
     ]
    }
   ],
   "source": [
    "A = np.array([[3, 1], \n",
    "              [1, 2]])\n",
    "b = np.array([9, 8])\n",
    "x = np.linalg.solve(A, b)\n",
    "print (\"Матрица A:\\n\", A)\n",
    "print (\"Вектор b:\\n\", b)\n",
    "print (\"Решение системы:\\n\", x)"
   ]
  },
  {
   "cell_type": "markdown",
   "metadata": {},
   "source": [
    "б) методом Крамера (реализуйте метод самостоятельно)"
   ]
  },
  {
   "cell_type": "code",
   "execution_count": 4,
   "metadata": {},
   "outputs": [],
   "source": [
    "A = np.array([[3, 1], \n",
    "              [1, 2]])\n",
    "b = np.array([9, 8])"
   ]
  },
  {
   "cell_type": "markdown",
   "metadata": {},
   "source": [
    "Существует ли решение?"
   ]
  },
  {
   "cell_type": "code",
   "execution_count": 5,
   "metadata": {},
   "outputs": [
    {
     "data": {
      "text/plain": [
       "5.000000000000001"
      ]
     },
     "execution_count": 5,
     "metadata": {},
     "output_type": "execute_result"
    }
   ],
   "source": [
    "detA = np.linalg.det(A)\n",
    "detA"
   ]
  },
  {
   "cell_type": "markdown",
   "metadata": {},
   "source": [
    "$\\det(A)\\ne 0$, следовательно, система совместна"
   ]
  },
  {
   "cell_type": "code",
   "execution_count": 6,
   "metadata": {},
   "outputs": [
    {
     "name": "stdout",
     "output_type": "stream",
     "text": [
      "$x_1=$ 2.0\n"
     ]
    }
   ],
   "source": [
    "A1 = np.copy(A)\n",
    "A1[:,0]=b\n",
    "print('$x_1=$', np.linalg.det(A1)/np.linalg.det(A))"
   ]
  },
  {
   "cell_type": "code",
   "execution_count": 7,
   "metadata": {},
   "outputs": [
    {
     "name": "stdout",
     "output_type": "stream",
     "text": [
      "$x_2=$ 2.9999999999999996\n"
     ]
    }
   ],
   "source": [
    "A2 = np.copy(A)\n",
    "A2[:,1]=b\n",
    "print('$x_2=$', np.linalg.det(A2)/np.linalg.det(A))"
   ]
  },
  {
   "cell_type": "markdown",
   "metadata": {},
   "source": [
    "в) методом обратной матрицы (реализуйте метод самостоятельно)"
   ]
  },
  {
   "cell_type": "code",
   "execution_count": 8,
   "metadata": {},
   "outputs": [],
   "source": [
    "A = np.array([[3, 1], \n",
    "              [1, 2]])\n",
    "b = np.array([9, 8])"
   ]
  },
  {
   "cell_type": "markdown",
   "metadata": {},
   "source": [
    "Существует ли решение?"
   ]
  },
  {
   "cell_type": "code",
   "execution_count": 9,
   "metadata": {},
   "outputs": [
    {
     "data": {
      "text/plain": [
       "5.000000000000001"
      ]
     },
     "execution_count": 9,
     "metadata": {},
     "output_type": "execute_result"
    }
   ],
   "source": [
    "detA = np.linalg.det(A)\n",
    "detA"
   ]
  },
  {
   "cell_type": "markdown",
   "metadata": {},
   "source": [
    "$\\det(A)\\ne 0$, следовательно, система совместна"
   ]
  },
  {
   "cell_type": "code",
   "execution_count": 10,
   "metadata": {},
   "outputs": [
    {
     "name": "stdout",
     "output_type": "stream",
     "text": [
      "Решение системы:\n",
      " [2. 3.]\n"
     ]
    }
   ],
   "source": [
    "x=np.dot(np.linalg.inv(A),b)\n",
    "print (\"Решение системы:\\n\", x)"
   ]
  },
  {
   "cell_type": "markdown",
   "metadata": {},
   "source": [
    "## Упражнение 3 \"Экстремум функции одной переменной\"\n",
    "\n",
    "Используя метод `minimize_scalar` библиотеки `scipy.optimize` выясните имеет ли функция $f(x)$ на интервале $(a, b)$ экстремумы.\n",
    "\n",
    "__Замечание__: Последовательность шагов следующая\n",
    "* Постройте график функции $f(x)$ \n",
    "* Если функция на интервале $(a, b)$ имеет несколько минимумов (максимумов) или точки разрыва, то разбейте интервал $(a, b)$ на интервалы \"меньшей длины\" и найдите экстремумы на них\n",
    "* Для нахождения максимума функции $f(x)$, ее необходимо умножить на $-1$ и исследовать новую функцию на минимум"
   ]
  },
  {
   "cell_type": "code",
   "execution_count": 26,
   "metadata": {},
   "outputs": [
    {
     "name": "stdout",
     "output_type": "stream",
     "text": [
      "Минимум функции на интервале от -5 до 5: -1.3154541196314153\n",
      "Точка минимума на интервале от -5 до 5: -0.9402890023440884\n"
     ]
    },
    {
     "data": {
      "image/png": "[encoded data removed]",
      "text/plain": [
       "<Figure size 640x480 with 1 Axes>"
      ]
     },
     "metadata": {},
     "output_type": "display_data"
    }
   ],
   "source": [
    "# Определение функции\n",
    "def func(x):\n",
    "    return np.sin(x) + 0.5*np.sin(2*x) + 0.1*np.sin(3*x)\n",
    "\n",
    "# Построение графика функции\n",
    "x_values = np.linspace(-5, 5, 1000)\n",
    "y_values = func(x_values)\n",
    "\n",
    "plt.plot(x_values, y_values, label='Function')\n",
    "plt.xlabel('$x$')\n",
    "plt.ylabel('$y$')\n",
    "plt.title('$y=\\\\sin x + 0.5\\\\sin 2x + 0.1\\\\sin 3x$')\n",
    "plt.grid(True)\n",
    "# Установка делений на оси x с шагом 1\n",
    "plt.xticks(np.arange(-5, 5, 1))\n",
    "\n",
    "# Установка делений на оси x с шагом 1\n",
    "plt.yticks(np.arange(-2, 2, 1))\n",
    "\n",
    "# Нахождение минимума функции на интервале (-5, 5)\n",
    "result = minimize_scalar(func, method='bounded', bounds=(-5, 5))\n",
    "\n",
    "print(\"Минимум функции на интервале от -5 до 5:\", result.fun)\n",
    "print(\"Точка минимума на интервале от -5 до 5:\", result.x)\n",
    "\n",
    "plt.scatter(result.x, result.fun, color='red', label='Minimum')\n",
    "plt.legend()\n",
    "plt.show()"
   ]
  },
  {
   "cell_type": "code",
   "execution_count": 27,
   "metadata": {},
   "outputs": [
    {
     "name": "stdout",
     "output_type": "stream",
     "text": [
      "Максимум функции на интервале от -5 до 5: 1.3154541196314151\n",
      "Точка максимума на интервале от -5 до 5: 0.9402890023442936\n"
     ]
    },
    {
     "data": {
      "image/png": "[encoded data removed]",
      "text/plain": [
       "<Figure size 640x480 with 1 Axes>"
      ]
     },
     "metadata": {},
     "output_type": "display_data"
    }
   ],
   "source": [
    "# Определение исходной функции \n",
    "def func(x):\n",
    "    return np.sin(x) + 0.5*np.sin(2*x) + 0.1*np.sin(3*x)\n",
    "# Определение функции для поиска максимума\n",
    "def func2(x):\n",
    "    return -1*(np.sin(x) + 0.5*np.sin(2*x) + 0.1*np.sin(3*x))\n",
    "\n",
    "\n",
    "# Построение графика функции\n",
    "x_values = np.linspace(-5, 5, 1000)\n",
    "y_values = func(x_values)\n",
    "\n",
    "plt.plot(x_values, y_values, label='Function')\n",
    "plt.xlabel('$x$')\n",
    "plt.ylabel('$y$')\n",
    "plt.title('$y=\\\\sin x + 0.5\\\\sin 2x + 0.1\\\\sin 3x$')\n",
    "plt.grid(True)\n",
    "# Установка делений на оси x с шагом 1\n",
    "plt.xticks(np.arange(-5, 5, 1))\n",
    "\n",
    "# Установка делений на оси x с шагом 1\n",
    "plt.yticks(np.arange(-2, 2, 1))\n",
    "\n",
    "# Нахождение минимума функции на интервале (-5, 5)\n",
    "result = minimize_scalar(func2, method='bounded', bounds=(-5, 5))\n",
    "\n",
    "print(\"Максимум функции на интервале от -5 до 5:\", -1*result.fun)# Поскольку мы максимизируем функцию, значения функции будут отрицательными\n",
    "print(\"Точка максимума на интервале от -5 до 5:\", result.x)\n",
    "\n",
    "plt.scatter(result.x, -1*result.fun, color='green', label='Maximum')\n",
    "plt.legend()\n",
    "plt.show()"
   ]
  },
  {
   "cell_type": "markdown",
   "metadata": {},
   "source": [
    "## Упражнение 4 \"Интеграл Римана\"\n",
    "\n",
    "Используя метод `trapz` (метод трапеций) библиотеки `numpy` вычислите численно интеграл Ньютона (\"определенный интеграл\") \n",
    "* $\\displaystyle \\int\\limits_{0}^{\\pi}\\sin{x}\\,dx$"
   ]
  },
  {
   "cell_type": "code",
   "execution_count": 15,
   "metadata": {},
   "outputs": [
    {
     "name": "stdout",
     "output_type": "stream",
     "text": [
      "Определенный интеграл: 1.999998351770852\n"
     ]
    }
   ],
   "source": [
    "# Границы интегрирования\n",
    "a = 0  # Нижний предел интегрирования\n",
    "b = np.pi  # Верхний предел интегрирования\n",
    "\n",
    "# Генерация точек для интегрирования\n",
    "x = np.linspace(a, b, 1000)\n",
    "# Определение функции\n",
    "y = np.sin(x)\n",
    "\n",
    "# Вычисление определенного интеграла методом трапеций\n",
    "integral = np.trapz(y, x)\n",
    "\n",
    "print('Определенный интеграл:', integral)\n"
   ]
  }
 ],
 "metadata": {
  "kernelspec": {
   "display_name": "Python [conda env:courses]",
   "language": "python",
   "name": "conda-env-courses-py"
  },
  "language_info": {
   "codemirror_mode": {
    "name": "ipython",
    "version": 3
   },
   "file_extension": ".py",
   "mimetype": "text/x-python",
   "name": "python",
   "nbconvert_exporter": "python",
   "pygments_lexer": "ipython3",
   "version": "3.11.7"
  }
 },
 "nbformat": 4,
 "nbformat_minor": 4
}
