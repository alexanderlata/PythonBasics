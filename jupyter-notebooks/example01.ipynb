{
 "cells": [
  {
   "cell_type": "code",
   "execution_count": null,
   "metadata": {},
   "outputs": [],
   "source": [
    "# Абсолютная величина числа\n",
    "var = -94\n",
    "print('Абсолютная величина числа равна:', abs(var))"
   ]
  },
  {
   "cell_type": "code",
   "execution_count": null,
   "metadata": {},
   "outputs": [],
   "source": [
    "# настраиваем печать\n",
    "a=2\n",
    "b=3\n",
    "print('Сумма чисел',a,'и',b,'равна', a+b)"
   ]
  },
  {
   "cell_type": "markdown",
   "metadata": {},
   "source": [
    "## Оператор if else "
   ]
  },
  {
   "cell_type": "code",
   "execution_count": null,
   "metadata": {},
   "outputs": [],
   "source": [
    "number = int(input(\"Введите число: \"))\n",
    "\n",
    "if number > 10:\n",
    "    print(\"Число\",number, \"больше 10\")\n",
    "# когда условие ложно, инструкция внутри блока if пропускается."
   ]
  },
  {
   "cell_type": "code",
   "execution_count": null,
   "metadata": {},
   "outputs": [],
   "source": [
    "# программа для расчета площади круга и длины окружности\n",
    "radius = int(input(\"Введите радиус: \"))\n",
    "\n",
    "if radius >= 0:\n",
    "    print(\"Длина окружности = \",  2  *  3.14  *  radius)\n",
    "    print(\"Площадь круга= \", 3.14 * radius ** 2)\n",
    "else:\n",
    "    print(\"Пожалуйста, введите положительное число\")"
   ]
  },
  {
   "cell_type": "code",
   "execution_count": null,
   "metadata": {},
   "outputs": [],
   "source": [
    "# программа, проверяющая, имеет ли студент право на кредит\n",
    "gre_score = int(input(\"Введите текущий лимит: \"))\n",
    "per_grad = int(input(\"Введите кредитный рейтинг: \"))\n",
    "\n",
    "if per_grad > 70:\n",
    "    # внешний блок if\n",
    "        if gre_score > 150:\n",
    "            # внутренний блок if\n",
    "\t    print(\"Поздравляем, вам выдан кредит\")\n",
    "else:\n",
    "    print(\"Извините, вы не имеете права на кредит\")\n"
   ]
  },
  {
   "cell_type": "markdown",
   "metadata": {},
   "source": [
    "Как это работает:\n",
    "\n",
    "Сначала оценивается внешнее условие `if`, то есть `per_grad > 70`. \n",
    "\n",
    "Если оно возвращает `True`, тогда управление программой происходит внутри внешнего блока `if`. \n",
    "\n",
    "Там же проверяется условие `gre_score > 150`. Если оно возвращает `True`, тогда в консоль выводится `\"Поздравляем, вам выдан кредит\"`. \n",
    "\n",
    "Если `False`, тогда программа выходит из инструкции `if-else`, чтобы исполнить следующие операции. Ничего при этом не выводится на экран.\n",
    "\n",
    "При этом если внешнее условие возвращает `False`, тогда выполнение инструкций внутри блока `if` пропускается, и контроль переходит к блоку `else`(9 строчка)."
   ]
  },
  {
   "cell_type": "code",
   "execution_count": null,
   "metadata": {},
   "outputs": [],
   "source": [
    "# инструкция if-else внутри другого оператора if\n",
    "gre_score = int(input(\"Введите текущий лимит: \"))\n",
    "per_grad = int(input(\"Введите кредитный рейтинг: \"))\n",
    "\n",
    "if per_grad > 70:\n",
    "    if gre_score > 150:\n",
    "        print(\"Поздравляем, вам выдан кредит\")\n",
    "    else:\n",
    "        print(\"У вас низкий кредитный лимит\")\n",
    "else:\n",
    "    print(\"Извините, вы не имеете права на кредит\")"
   ]
  },
  {
   "cell_type": "code",
   "execution_count": null,
   "metadata": {},
   "outputs": [],
   "source": [
    "# программа для определения оценки студента на основе введенных баллов\n",
    "score = int(input(\"Введите вашу оценку: \"))\n",
    "\n",
    "if score >= 90:\n",
    "    print(\"Отлично! Ваша оценка А\")\n",
    "elif score >= 80:\n",
    "    print(\"Здорово! Ваша оценка - B\")\n",
    "elif score >= 70:\n",
    "    print(\"Хорошо! Ваша оценка - C\")\n",
    "elif score >= 60:\n",
    "    print(\"Ваша оценка - D. Стоит повторить материал.\")\n",
    "else:\n",
    "    print(\"Вы не сдали экзамен\")"
   ]
  },
  {
   "cell_type": "markdown",
   "metadata": {},
   "source": [
    "## Цикл for"
   ]
  },
  {
   "cell_type": "code",
   "execution_count": null,
   "metadata": {},
   "outputs": [],
   "source": [
    "# Простой пример цикла for\n",
    "for i in [0, 1, 2, 3, 4, 5]:\n",
    "    print(i, end=\"; \") "
   ]
  },
  {
   "cell_type": "code",
   "execution_count": null,
   "metadata": {},
   "outputs": [],
   "source": [
    "# Пример посложнее\n",
    "for i in [0, 1, 2, 3, 4, 5]:\n",
    "    x = (i-2)*(i+2) - i**2 + 4\n",
    "    print(x, end=\"; \")"
   ]
  },
  {
   "cell_type": "markdown",
   "metadata": {},
   "source": [
    "## Функция range()\n",
    "\n",
    "Функция `range()` возвращает последовательность целых чисел на основе переданных ей аргументов.\n",
    "\n",
    "Синтаксис: `range([start], stop[, step])`\n",
    "\n",
    "* start: число начала последовательности.\n",
    "* stop: генерирует число до данного числа, но не включая его.\n",
    "* step: разница между каждым числом из последовательности.\n",
    "* все параметры должны быть целыми числами.\n",
    "* каждый из параметров может быть положительным или отрицательным.\n",
    "* параметры указанные в квадратных скобках не обязательные\n",
    "* если функция `range()` вызывается только с одним аргументом, то Python считает, что `start = 0`.\n",
    "* необязательное значение `step` (шаг) управляет приращением между значениями последовательности. По умолчанию `step = 1`."
   ]
  },
  {
   "cell_type": "code",
   "execution_count": null,
   "metadata": {},
   "outputs": [],
   "source": [
    "# 5 чисел начиная с 0\n",
    "for i in range(5):\n",
    "    print(i)"
   ]
  },
  {
   "cell_type": "code",
   "execution_count": null,
   "metadata": {},
   "outputs": [],
   "source": [
    "# числа с 3 до 6 (не включая его) с шагом 1 \n",
    "for i in range(3, 6):\n",
    "    print(i)"
   ]
  },
  {
   "cell_type": "code",
   "execution_count": null,
   "metadata": {},
   "outputs": [],
   "source": [
    "# числа с 4 до 10 (не включая его) с шагом 2\n",
    "for i in range(4, 10, 2):\n",
    "    print(i)"
   ]
  },
  {
   "cell_type": "code",
   "execution_count": null,
   "metadata": {},
   "outputs": [],
   "source": [
    "# числа с 0 до -10 (не включая его) с шагом -2\n",
    "for i in range(0, -10, -2):\n",
    "    print(i)"
   ]
  },
  {
   "cell_type": "code",
   "execution_count": null,
   "metadata": {},
   "outputs": [],
   "source": [
    "my_list = ['один', 'два', 'три', 'четыре', 'пять']\n",
    "my_list_len = len(my_list)\n",
    "for i in range(0, my_list_len):\n",
    "    print(my_list[i])"
   ]
  },
  {
   "cell_type": "markdown",
   "metadata": {},
   "source": [
    "## Цикл while"
   ]
  },
  {
   "cell_type": "code",
   "execution_count": null,
   "metadata": {},
   "outputs": [],
   "source": [
    "a = 1\n",
    "\n",
    "while a < 10:\n",
    "    print('Цикл выполнился', a, 'раз(а)')\n",
    "    a = a+1\n",
    "print('Цикл окончен')"
   ]
  },
  {
   "cell_type": "markdown",
   "metadata": {},
   "source": [
    "## Else в цикле while\n",
    "В Python с циклами while также можно использовать инструкцию else. В этом случае блок в else исполняется, когда условие цикла становится ложным."
   ]
  },
  {
   "cell_type": "code",
   "execution_count": null,
   "metadata": {},
   "outputs": [],
   "source": [
    "a = 1\n",
    "\n",
    "while a < 5:\n",
    "   print('условие верно')\n",
    "   a = a + 1\n",
    "else:\n",
    "   print('условие неверно')"
   ]
  },
  {
   "cell_type": "markdown",
   "metadata": {},
   "source": [
    "## Прерывания цикла while в Python"
   ]
  },
  {
   "cell_type": "markdown",
   "metadata": {},
   "source": [
    "В Python есть два ключевых слова, с помощью которых можно преждевременно остановить итерацию цикла.\n",
    "\n",
    "`Break` — ключевое слово break прерывает цикл и передает управление в конец цикла"
   ]
  },
  {
   "cell_type": "code",
   "execution_count": null,
   "metadata": {},
   "outputs": [],
   "source": [
    "a = 1\n",
    "while a < 5:\n",
    "    a += 1\n",
    "    if a == 3:\n",
    "\t    break\n",
    "    print(a)"
   ]
  },
  {
   "cell_type": "markdown",
   "metadata": {},
   "source": [
    "`Continue` — ключевое слово continue прерывает текущую итерацию и передает управление в начало цикла, после чего условие снова проверяется. Если оно истинно, исполняется следующая итерация."
   ]
  },
  {
   "cell_type": "code",
   "execution_count": null,
   "metadata": {},
   "outputs": [],
   "source": [
    "a = 1\n",
    "\n",
    "while a < 5:\n",
    "    a += 1\n",
    "    if a == 3:\n",
    "\t    continue\n",
    "    print(a)"
   ]
  },
  {
   "cell_type": "markdown",
   "metadata": {},
   "source": [
    "## Циклы while и for"
   ]
  },
  {
   "cell_type": "markdown",
   "metadata": {},
   "source": [
    "Представьте, что у нас есть ряд чисел от 0 до 9. Мы хотим сложить эти числа. Мы могли бы сделать это так:"
   ]
  },
  {
   "cell_type": "code",
   "execution_count": null,
   "metadata": {},
   "outputs": [],
   "source": [
    "sum = 0\n",
    "i = 0\n",
    "\n",
    "while i < 10:\n",
    "    sum += i\n",
    "    i += 1\n",
    "print(sum)"
   ]
  },
  {
   "cell_type": "markdown",
   "metadata": {},
   "source": [
    "Сначала мы устанавливаем начальную сумму 0. \n",
    "\n",
    "Далее запускается цикл, в котором переменная `i` начинает принимать значения начиная с 0 и доходя до 10. \n",
    "\n",
    "На каждом шаге мы прибавляем значение `i` к нашей сумме и увеличиваем `i` на 1. \n",
    "\n",
    "Как только `i` становится равным 10, цикл заканчивается и программа выдаёт нам сумму всех чисел от 0 до 9 равную 45.\n",
    "\n",
    "Такой код мы можем переписать на цикл `for`"
   ]
  },
  {
   "cell_type": "code",
   "execution_count": null,
   "metadata": {},
   "outputs": [],
   "source": [
    "sum = 0\n",
    "\n",
    "for i in range(10):\n",
    "    sum += i\n",
    "print(sum)"
   ]
  },
  {
   "cell_type": "markdown",
   "metadata": {},
   "source": [
    "## Инструкции if в цикле for"
   ]
  },
  {
   "cell_type": "markdown",
   "metadata": {},
   "source": [
    "Переберите числа до 50. Выводите «fizz» для каждого числа, которое делится на 3, «buzz» — для тех, что делятся на 5 и «fizzbuzz» — для тех, что делятся на 3 и на 5! Если число не делится, выводите тире (’-’)"
   ]
  },
  {
   "cell_type": "code",
   "execution_count": null,
   "metadata": {},
   "outputs": [],
   "source": [
    "for i in range(51):\n",
    "    if i % 3 == 0 and i % 5 == 0:\n",
    "        print('fizzbuzz')\n",
    "    elif i % 3 == 0:\n",
    "        print('fizz')\n",
    "    elif i % 5 == 0:\n",
    "        print('buzz')\n",
    "    else:\n",
    "        print('-')"
   ]
  }
 ],
 "metadata": {
  "kernelspec": {
   "display_name": "courses",
   "language": "python",
   "name": "python3"
  },
  "language_info": {
   "codemirror_mode": {
    "name": "ipython",
    "version": 3
   },
   "file_extension": ".py",
   "mimetype": "text/x-python",
   "name": "python",
   "nbconvert_exporter": "python",
   "pygments_lexer": "ipython3",
   "version": "3.11.7"
  }
 },
 "nbformat": 4,
 "nbformat_minor": 2
}
