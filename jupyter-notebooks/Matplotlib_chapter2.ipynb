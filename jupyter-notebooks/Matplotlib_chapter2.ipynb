{
 "cells": [
  {
   "cell_type": "markdown",
   "metadata": {},
   "source": [
    "### Matplotlib"
   ]
  },
  {
   "cell_type": "markdown",
   "metadata": {},
   "source": [
    "Официальная документация по matplotlib - https://matplotlib.org/index.html."
   ]
  },
  {
   "cell_type": "code",
   "execution_count": null,
   "metadata": {},
   "outputs": [],
   "source": [
    "#Все функции matplotlib API, в частности plot и close, находятся в модуле matplotlib.pyplot\n",
    "import matplotlib.pyplot as plt\n",
    "#Корректное отображение графиков прямо в jupyter'e\n",
    "%matplotlib inline\n",
    "\n",
    "import numpy as np\n",
    "from numpy.random import randn\n",
    "import pandas as pd"
   ]
  },
  {
   "cell_type": "markdown",
   "metadata": {},
   "source": [
    "# Мультиоконные рисунки"
   ]
  },
  {
   "cell_type": "code",
   "execution_count": null,
   "metadata": {},
   "outputs": [],
   "source": [
    "# создадим объект класса figure\n",
    "fig = plt.figure()\n",
    "# применим метод .add_subplot() для создания подграфика (объекта ax) (параметры можно передать через запятые)\n",
    "# первые два параметра задают количество строк и столбцов\n",
    "# третий параметр - это индекс (порядковый номер подграфика)\n",
    "ax1 = fig.add_subplot(221)\n",
    "ах2 = fig.add_subplot(222) \n",
    "ax3 = fig.add_subplot(223)  \n",
    "ax4 = fig.add_subplot(224)  \n",
    "\n",
    "plt.show()\n",
    "plt.close()"
   ]
  },
  {
   "cell_type": "markdown",
   "metadata": {},
   "source": [
    "-----------"
   ]
  },
  {
   "cell_type": "code",
   "execution_count": null,
   "metadata": {},
   "outputs": [],
   "source": [
    "fig = plt.figure()\n",
    "ax1 = fig.add_subplot(221)\n",
    "ах2 = fig.add_subplot(222) \n",
    "ax3 = fig.add_subplot(212) "
   ]
  },
  {
   "cell_type": "code",
   "execution_count": null,
   "metadata": {},
   "outputs": [],
   "source": [
    "fig = plt.figure()\n",
    "ax1 = fig.add_subplot(221)\n",
    "ах2 = fig.add_subplot(122) \n",
    "ax3 = fig.add_subplot(223)   "
   ]
  },
  {
   "cell_type": "code",
   "execution_count": null,
   "metadata": {},
   "outputs": [],
   "source": [
    "# создаем объект figure, указываем размер объекта\n",
    "fig = plt.figure(figsize= (14,5))\n",
    "# и его заголовок с помощью метода .suptitle()\n",
    "fig.suptitle('Figure object')\n",
    "# можно и plt.suptitle('Figure object')\n",
    "\n",
    "# внутри него создаем первый объекта класса axes\n",
    "ax1 = fig.add_subplot(221)\n",
    "# к этому объекту можно применять различные методы\n",
    "ax1.set_title('Axes object 1')\n",
    "\n",
    "# и второй (параметры можно передать через запятые)\n",
    "ax2 = fig.add_subplot(122) \n",
    "ax2.set_title('Axes object 2')\n",
    "\n",
    "ax3 = fig.add_subplot(223)\n",
    "ax3.set_title('Axes object 3')\n",
    "\n",
    "# plt.plot(randn(100).cumsum(), 'k--')\n",
    "\n",
    "# Метод fig.add_subplot возвращает объект AxesSubplot, что позволяет рисовать в любом подrрафике, вызывая методы этого объекта:\n",
    "f = ax1.hist(randn(100), bins=20, color='y', alpha=0.5)\n",
    "ax2.scatter(np.arange(30), np.arange(30) + 3 * randn(30)) \n",
    "ax3.plot(randn(100).cumsum(), 'k--')\n",
    "\n",
    "#Достаточно популярный способ задания пустого пространства вокруг графиков         \n",
    "plt.subplots_adjust(wspace=0.3, hspace=0.3) \n",
    "# выведем результат\n",
    "plt.show()"
   ]
  },
  {
   "cell_type": "code",
   "execution_count": null,
   "metadata": {},
   "outputs": [],
   "source": [
    "f"
   ]
  },
  {
   "cell_type": "code",
   "execution_count": null,
   "metadata": {},
   "outputs": [],
   "source": [
    "#Отдельно данный метод тоже будет работать, так как при необходимости он автоматически создаст рисунок и подграфик\n",
    "plt.plot(randn(100).cumsum())"
   ]
  },
  {
   "cell_type": "code",
   "execution_count": null,
   "metadata": {},
   "outputs": [],
   "source": [
    "fig, axes = plt.subplots(2, 3)\n",
    "fig.set_figheight(5)\n",
    "fig.set_figwidth(15)\n",
    "\n",
    "axes[0,1].scatter(np.arange(30), np.arange(30) + 3 * randn(30)) \n",
    "axes[1,1].bar(np.arange(10),  randn(10)) \n",
    "\n",
    "plt.show()"
   ]
  },
  {
   "cell_type": "code",
   "execution_count": null,
   "metadata": {},
   "outputs": [],
   "source": [
    "axes"
   ]
  },
  {
   "cell_type": "code",
   "execution_count": null,
   "metadata": {},
   "outputs": [],
   "source": [
    "fig, axes = plt.subplots(2, 2, sharex=True, sharey=True)\n",
    "fig.set_figheight(5)\n",
    "fig.set_figwidth(15)\n",
    "for i in range(2):\n",
    "    for j in range(2):\n",
    "        axes[i, j].hist(randn(500), bins=50, color= 'r', alpha=0.5) \n",
    "#Достаточно популярный способ задания пустого пространства вокруг графиков         \n",
    "plt.subplots_adjust(wspace=0.0, hspace=0.0) "
   ]
  },
  {
   "cell_type": "code",
   "execution_count": null,
   "metadata": {},
   "outputs": [],
   "source": [
    "#Обратить внимание на общую ось \n",
    "fig, axes = plt.subplots(2, 2, sharex=False, sharey=False)\n",
    "fig.set_figheight(5)\n",
    "fig.set_figwidth(15)\n",
    "for i in range(2):\n",
    "    for j in range(2):\n",
    "        axes[i, j].hist(randn(500), bins=50, color= 'r', alpha=0.5) \n",
    "#Достаточно популярный способ задания пустого пространства вокруг графиков         \n",
    "plt.subplots_adjust(wspace=0.2, hspace=0.2) "
   ]
  },
  {
   "cell_type": "code",
   "execution_count": null,
   "metadata": {},
   "outputs": [],
   "source": [
    "#Сохранение рисунка\n",
    "plt.savefig('figpath.png', dpi=400, bbox_inches= 'tight') "
   ]
  },
  {
   "cell_type": "markdown",
   "metadata": {},
   "source": [
    "### Конфигурирование matplotlib "
   ]
  },
  {
   "cell_type": "code",
   "execution_count": null,
   "metadata": {},
   "outputs": [],
   "source": [
    "#Задает глобально размер рисунка\n",
    "plt.rc('figure', figsize=(10, 10))\n",
    "font_options = {'family' : 'monospace'} \n",
    "plt.rc('font', **font_options) "
   ]
  },
  {
   "cell_type": "markdown",
   "metadata": {},
   "source": [
    "#### Цвет графика"
   ]
  },
  {
   "cell_type": "code",
   "execution_count": null,
   "metadata": {},
   "outputs": [],
   "source": [
    "# создадим несколько графиков функции косинуса со сдвигом\n",
    "# и зададим цвет каждого графика одним из доступных в Matplotlib способов\n",
    "x = np.linspace(0, 2 * np.pi, 100)\n",
    "plt.plot(x, np.cos(x - 0), color = 'blue')        # по названию\n",
    "plt.plot(x, np.cos(x - 1), color = 'g')           # по короткому названию (rgbcmyk)\n",
    "plt.plot(x, np.cos(x - 2), color = '0.75')        # оттенки серого от 0 до 1\n",
    "plt.plot(x, np.cos(x - 3), color = '#FFDD44')     # HEX код (RRGGBB от 00 до FF)\n",
    "plt.plot(x, np.cos(x - 4), color = (1.0,0.2,0.3)) # RGB кортеж, значения от 0 до 1\n",
    "plt.plot(x, np.cos(x - 5), color = 'chartreuse'); # CSS название цветов"
   ]
  },
  {
   "cell_type": "markdown",
   "metadata": {},
   "source": [
    "#### Тип линии графика"
   ]
  },
  {
   "cell_type": "code",
   "execution_count": null,
   "metadata": {},
   "outputs": [],
   "source": [
    "# посмотрим на возможный тип линии графика\n",
    "plt.plot(x, x + 0, linestyle = 'solid', linewidth = 2)\n",
    "plt.plot(x, x + 1, linestyle = 'dashed', linewidth = 2)\n",
    "plt.plot(x, x + 2, linestyle = 'dashdot', linewidth = 2)\n",
    "plt.plot(x, x + 3, linestyle = 'dotted', linewidth = 2);"
   ]
  },
  {
   "cell_type": "code",
   "execution_count": null,
   "metadata": {},
   "outputs": [],
   "source": [
    "# создадим различные линии с помощью строки форматирования\n",
    "plt.plot(x, x + 0, '-b', linewidth = 2)  # сплошная синяя линия (по умолчанию)\n",
    "plt.plot(x, x + 1, '--c', linewidth = 2) # штриховая линия цвета морской волны (cyan)\n",
    "plt.plot(x, x + 2, '-.k', linewidth = 2) # черная (key) штрихпунктирная линия\n",
    "plt.plot(x, x + 3, ':r', linewidth = 2); # красная линия из точек"
   ]
  },
  {
   "cell_type": "markdown",
   "metadata": {},
   "source": [
    "#### Стиль точечной диаграммы"
   ]
  },
  {
   "cell_type": "code",
   "execution_count": null,
   "metadata": {},
   "outputs": [],
   "source": [
    "# зададим точку отсчета\n",
    "np.random.seed(42)\n",
    "# и последовательность из 10-ти случайных целых чисел от 0 до 10\n",
    "y = np.random.randint(10, size = 10)"
   ]
  },
  {
   "cell_type": "code",
   "execution_count": null,
   "metadata": {},
   "outputs": [],
   "source": [
    "# выведем первые 10 наблюдений в виде синих (b) кругов (o)\n",
    "plt.scatter(x[:10], y, c = 'b', marker = 'o')\n",
    "# выведем вторые 10 наблюдений в виде красных (r) треугольников (^)\n",
    "plt.scatter(x[10:20], y, c = 'r', marker = '^')\n",
    "# выведем третьи 10 наблюдений в виде серых (0.50) квадратов (s)\n",
    "# дополнительно укажем размер квадратов s = 100\n",
    "plt.scatter(x[20:30], y, c = '0.50', marker = 's', s = 100);"
   ]
  },
  {
   "cell_type": "markdown",
   "metadata": {},
   "source": [
    "#### Стиль графика в целом"
   ]
  },
  {
   "cell_type": "code",
   "execution_count": null,
   "metadata": {},
   "outputs": [],
   "source": [
    "# посмотрим на доступные стили\n",
    "plt.style.available"
   ]
  },
  {
   "cell_type": "code",
   "execution_count": null,
   "metadata": {},
   "outputs": [],
   "source": [
    "# применим стиль bmh\n",
    "plt.style.use('bmh')\n",
    "# создадим последовательность для оси x\n",
    "x = np.linspace(0, 10, 100)\n",
    "# зададим точку отсчета\n",
    "np.random.seed(42)\n",
    "# и последовательность из 10-ти случайных целых чисел от 0 до 10\n",
    "y = np.random.randint(10, size = 10)\n",
    "# и создадим точечную диаграмму с квадратными красными маркерами размера 100\n",
    "plt.scatter(x[20:30], y, s = 100, c = 'r', marker = 's');\n"
   ]
  },
  {
   "cell_type": "code",
   "execution_count": null,
   "metadata": {},
   "outputs": [],
   "source": [
    "# вернем ноутбук к \"заводским\" настройкам (стиль default)\n",
    "# такой стиль тоже есть, хоть он и не указан в перечне plt.style.available\n",
    "# импортируем всю библиотеку Matplotlib\n",
    "plt.style.use('default')\n",
    "\n",
    "# дополнительно пропишем размер последующих графиков\n",
    "plt.rcParams['figure.figsize'] = (5, 4)\n",
    "plt.rcParams['figure.figsize']"
   ]
  },
  {
   "cell_type": "code",
   "execution_count": null,
   "metadata": {},
   "outputs": [],
   "source": [
    "# дополним белый прямоугольник сеткой и снова выведем график\n",
    "plt.grid()\n",
    "plt.scatter(x[20:30], y, s = 100, c = 'r', marker = 's');"
   ]
  },
  {
   "cell_type": "markdown",
   "metadata": {},
   "source": [
    "### Пределы шкалы и деления осей графика"
   ]
  },
  {
   "cell_type": "markdown",
   "metadata": {},
   "source": [
    "#### Пределы шкалы"
   ]
  },
  {
   "cell_type": "markdown",
   "metadata": {},
   "source": [
    "Способ 1. Функции `plt.xlim()` и `plt.ylim()`"
   ]
  },
  {
   "cell_type": "code",
   "execution_count": null,
   "metadata": {},
   "outputs": [],
   "source": [
    "# выведем график функции синуса\n",
    "plt.plot(x, np.sin(x))\n",
    "\n",
    "# пропишем пределы шкалы по обеим осям\n",
    "plt.xlim(-2, 12)\n",
    "plt.ylim(-1.5, 1.5);"
   ]
  },
  {
   "cell_type": "markdown",
   "metadata": {},
   "source": [
    "Способ 2. Функция `plt.axis()`"
   ]
  },
  {
   "cell_type": "code",
   "execution_count": null,
   "metadata": {},
   "outputs": [],
   "source": [
    "# выведем график функции синуса\n",
    "plt.plot(x, np.sin(x))\n",
    "\n",
    "# зададим пределы графика с помощью функции plt.axis()\n",
    "# передадим параметры в следующей очередности: xmin, xmax, ymin, ymax\n",
    "plt.axis([-2, 12, -1.5, 1.5]);"
   ]
  },
  {
   "cell_type": "markdown",
   "metadata": {},
   "source": [
    "#### Деления"
   ]
  },
  {
   "cell_type": "code",
   "execution_count": null,
   "metadata": {},
   "outputs": [],
   "source": [
    "# построим синусоиду и зададим график ее осей\n",
    "plt.plot(x, np.sin(x))\n",
    "plt.axis([-0.5, 11, -1.2, 1.2])\n",
    "\n",
    "# создадим последовательность от 0 до 10 с помощью функции np.arange()\n",
    "# и передадим ее в функцию plt.xticks()\n",
    "plt.xticks(np.arange(11))\n",
    "\n",
    "# в функцию plt.yticks() передадим созданный вручную список\n",
    "plt.yticks([-1, 0, 1]);"
   ]
  },
  {
   "cell_type": "markdown",
   "metadata": {},
   "source": [
    "### Подписи, легенда и размеры графика"
   ]
  },
  {
   "cell_type": "code",
   "execution_count": null,
   "metadata": {},
   "outputs": [],
   "source": [
    "# зададим размеры отдельного графика (лучше указывать в начале кода)\n",
    "plt.figure(figsize = (8,5))\n",
    "\n",
    "# добавим графики синуса и косинуса с подписями к кривым\n",
    "plt.plot(x, np.sin(x), label = 'sin(x)')\n",
    "plt.plot(x, np.cos(x), label = 'cos(x)')\n",
    "\n",
    "# выведем легенду (подписи к кривым) с указанием места на графике и размера шрифта\n",
    "plt.legend(loc = 'lower left', prop = {'size': 14})\n",
    "\n",
    "# добавим пределы шкал по обеим осям,\n",
    "plt.axis([-0.5, 10.5, -1.2, 1.2])\n",
    "\n",
    "# а также деления осей графика\n",
    "plt.xticks(np.arange(11))\n",
    "plt.yticks([-1, 0, 1])\n",
    "\n",
    "# добавим заголовок и подписи к осям с указанием размера шрифта\n",
    "plt.title('Функции y = sin(x) и y = cos(x)', fontsize = 18)\n",
    "plt.xlabel('x', fontsize = 16)\n",
    "plt.ylabel('y', fontsize = 16)\n",
    "\n",
    "# добавим сетку\n",
    "plt.grid()\n",
    "\n",
    "# выведем результат\n",
    "plt.show()"
   ]
  },
  {
   "cell_type": "markdown",
   "metadata": {},
   "source": [
    "### `plt.figure()` и `plt.axes()`"
   ]
  },
  {
   "cell_type": "code",
   "execution_count": null,
   "metadata": {},
   "outputs": [],
   "source": [
    "plt.style.use('seaborn-whitegrid')"
   ]
  },
  {
   "cell_type": "code",
   "execution_count": null,
   "metadata": {},
   "outputs": [],
   "source": [
    "# создадим объект класса plt.figure()\n",
    "fig = plt.figure()\n",
    "\n",
    "# создадим объект класса plt.axes()\n",
    "ax = plt.axes()"
   ]
  },
  {
   "cell_type": "code",
   "execution_count": null,
   "metadata": {},
   "outputs": [],
   "source": [
    "# создадим объект класса plt.figure()\n",
    "fig = plt.figure()\n",
    "\n",
    "# создадим объект класса plt.axes()\n",
    "ax = plt.axes()\n",
    "\n",
    "# добавим синусоиду к объекту ax с помощью метода .plot()\n",
    "ax.plot(x, np.sin(x));"
   ]
  },
  {
   "cell_type": "code",
   "execution_count": null,
   "metadata": {},
   "outputs": [],
   "source": [
    "fig = plt.figure()\n",
    "ax = plt.axes()\n",
    "ax.plot(x, np.sin(x))\n",
    "\n",
    "# используем методы класса plt.axes()\n",
    "ax.set_title('y = sin(x)')\n",
    "ax.set_xlabel('x')\n",
    "ax.set_ylabel('y');"
   ]
  },
  {
   "cell_type": "code",
   "execution_count": null,
   "metadata": {},
   "outputs": [],
   "source": [
    "fig = plt.figure()\n",
    "ax = plt.axes()\n",
    "ax.plot(x, np.sin(x))\n",
    "\n",
    "# применим метод .set() и укажем необходимые параметры\n",
    "ax.set(title = 'y = sin(x)',\n",
    "       xlabel='x', ylabel = 'y',\n",
    "       xlim = (-0.5, 10.5), ylim = (-1.2, 1.2),\n",
    "       xticks = (np.arange(11)),\n",
    "       yticks = [-1, 0, 1]);"
   ]
  },
  {
   "cell_type": "markdown",
   "metadata": {},
   "source": [
    "### Построение подграфиков"
   ]
  },
  {
   "cell_type": "markdown",
   "metadata": {},
   "source": [
    "#### Создание вручную"
   ]
  },
  {
   "cell_type": "code",
   "execution_count": null,
   "metadata": {},
   "outputs": [],
   "source": [
    "# создадим объект класса plt.figure()\n",
    "fig = plt.figure()\n",
    "\n",
    "# зададим координаты угла [0.1, 0.6] и размеры [0.8, 0.4] верхнего подграфика,\n",
    "# дополнительно зададим пределы шкалы по оси y и уберем шкалу по оси x\n",
    "ax1 = fig.add_axes([0.1, 0.6, 0.8, 0.4],\n",
    "                   ylim = (-1.2, 1.2),\n",
    "                   xticklabels = [])\n",
    "\n",
    "# добавим координаты угла [[0.1, 0.1] и размеры [0.8, 0.4] нижнего подграфика\n",
    "ax2 = fig.add_axes([0.1, 0.1, 0.8, 0.4],\n",
    "                   ylim = (-1.2, 1.2))\n",
    "\n",
    "# выведем на них синусоиду и косинусоиду соответственно\n",
    "ax1.plot(np.sin(x))\n",
    "ax2.plot(np.cos(x));"
   ]
  },
  {
   "cell_type": "markdown",
   "metadata": {},
   "source": [
    "#### Метод `.add_subplot()`"
   ]
  },
  {
   "cell_type": "code",
   "execution_count": null,
   "metadata": {},
   "outputs": [],
   "source": [
    "# создаем объект figure, задаем размер объекта,\n",
    "fig = plt.figure(figsize = (8,4))\n",
    "# указываем общий заголовок через метод .suptitle()\n",
    "fig.suptitle('Заголовок объекта fig') # можно использовать plt.suptitle('Заголовок объекта fig')\n",
    "\n",
    "# внутри него создаем объект ax1, прописываем сетку из одной строки и двух столбцов\n",
    "# и положение (индекс) ax1 в сетке\n",
    "ax1 = fig.add_subplot(1, 2, 1)\n",
    "# используем метод .set_title() для создания заголовка объекта ax1\n",
    "ax1.set_title('Объект ax1')\n",
    "\n",
    "# создаем и наполняем объект ax2\n",
    "# запятые для значений сетки не обязательны, а заголовок можно передать параметром\n",
    "ax2 = fig.add_subplot(122, title = 'Объект ax2')\n",
    "\n",
    "plt.show()"
   ]
  },
  {
   "cell_type": "code",
   "execution_count": null,
   "metadata": {},
   "outputs": [],
   "source": [
    "# создадим объект figure и зададим его размер\n",
    "fig = plt.figure(figsize = (9, 6))\n",
    "# укажем горизонтальное и вертикальное расстояние между графиками\n",
    "fig.subplots_adjust(hspace = 0.4, wspace = 0.4)\n",
    "\n",
    "# в цикле от 1 до 6 (так как у нас будет шесть подграфиков)\n",
    "for i in range(1, 7):\n",
    "  # поочередно создадим каждый подграфик\n",
    "  # первые два параметра задают сетку, в переменной i содержится индекс подграфика\n",
    "  ax = fig.add_subplot(2, 3, i)\n",
    "  # метод .text() позволяет написать текст в заданном месте подграфика\n",
    "  ax.text(0.5, 0.5,       # разместим текст в центре\n",
    "          str((2, 3, i)), # выведем параметры сетки и индекс графика\n",
    "          fontsize = 16,  # зададим размер текста\n",
    "          ha = 'center')  # сделаем выравнивание по центру"
   ]
  },
  {
   "cell_type": "markdown",
   "metadata": {},
   "source": [
    "#### Функция `plt.subplots()`"
   ]
  },
  {
   "cell_type": "code",
   "execution_count": null,
   "metadata": {},
   "outputs": [],
   "source": [
    "# создаем объекты fig и ax\n",
    "# в параметрах указываем число строк и столбцов, а также размер фигуры\n",
    "fig, ax = plt.subplots(nrows = 2, ncols = 2, figsize = (6,6))\n",
    "\n",
    "# с помощью индекса объекта ax заполним левый верхний график\n",
    "ax[0, 0].plot(x, np.sin(x))\n",
    "\n",
    "# через метод .set() задаем параметры графика\n",
    "ax[0, 0].set(title = 'y = sin(x)',\n",
    "             xlabel = 'x', ylabel = 'y',\n",
    "             xlim = (-0.5, 10.5), ylim = (-1.2, 1.2),\n",
    "             xticks = (np.arange(0, 11, 2)),\n",
    "             yticks = [-1, 0, 1])\n",
    "\n",
    "plt.tight_layout();"
   ]
  },
  {
   "cell_type": "code",
   "execution_count": null,
   "metadata": {},
   "outputs": [],
   "source": [
    "# передадим подграфики в соответствующие переменные\n",
    "# в первых внутренних скобках - первая строка, во вторых - вторая\n",
    "fig, ((ax1, ax2), (ax3, ax4)) = plt.subplots(2, 2, figsize = (6, 6))\n",
    "\n",
    "# поместим функцию np.sin(x) во второй столбец первой строки\n",
    "ax2.plot(x, np.sin(x))\n",
    "ax2.set(title = 'y = sin(x)',\n",
    "        xlabel='x', ylabel = 'y',\n",
    "        xlim = (-0.5, 10.5), ylim = (-1.2, 1.2),\n",
    "        xticks = (np.arange(0, 11, 2)),\n",
    "        yticks = [-1, 0, 1])\n",
    "\n",
    "plt.tight_layout();"
   ]
  },
  {
   "cell_type": "markdown",
   "metadata": {},
   "source": [
    "## Цветовая палитра\n",
    "При построении отдельных кривых, можно задавать цвета следующим образом:"
   ]
  },
  {
   "cell_type": "code",
   "execution_count": null,
   "metadata": {},
   "outputs": [],
   "source": [
    "f1 = plt.figure()\n",
    "plt.plot([1, 2, 3], 'brown', [-1,-2,-3], 'green')\n",
    "plt.title(\"Figure 1 not cleared clf()\") \n",
    "plt.show()"
   ]
  },
  {
   "cell_type": "markdown",
   "metadata": {},
   "source": [
    "Сменить палитру цветов для 3-хмерного графика можно следующим образом:"
   ]
  },
  {
   "cell_type": "code",
   "execution_count": null,
   "metadata": {},
   "outputs": [],
   "source": [
    "X = 10\n",
    "N = 50\n",
    "u = np.linspace(-X, X, N)\n",
    "x, y = np.meshgrid(u, u)\n",
    "r = np.sqrt(x ** 2 + y ** 2)\n",
    "z = np.sin(r) / r\n",
    "\n",
    "fig = plt.figure()\n",
    "ax = fig.add_subplot(projection='3d')\n",
    "ax.plot_surface(x, y, z, cmap='jet')\n",
    "plt.show()"
   ]
  },
  {
   "cell_type": "markdown",
   "metadata": {},
   "source": [
    "Кроме этого есть палитры hot, cool и многое другое. С ними можете поэкспериментировать сами. Также можете использовать один цвет, тогда, например, вместо cmap='jet' пишите color='green'."
   ]
  },
  {
   "cell_type": "markdown",
   "metadata": {},
   "source": [
    "# Заливка"
   ]
  },
  {
   "cell_type": "markdown",
   "metadata": {},
   "source": [
    "С помощью функции \n",
    "- `plt.fill()`, можно закрасить многоугольник\n",
    "- `plt.fill_between()` : заполнить область между двумя горизонтальными кривыми\n",
    "- `plt.fill_betweenx()` : заполнить область между двумя вертикальными кривыми"
   ]
  },
  {
   "cell_type": "code",
   "execution_count": null,
   "metadata": {},
   "outputs": [],
   "source": [
    "plt.fill(\"j\", \"k\", 'm', \n",
    "         data={\"j\": [0, 1, 2], \n",
    "               \"k\": [0, 1, 0]})  # here 'm' for magenta"
   ]
  },
  {
   "cell_type": "code",
   "execution_count": null,
   "metadata": {},
   "outputs": [],
   "source": [
    "def koch_snowflake(order, scale=10):\n",
    "    \"\"\"\n",
    "    Return two lists x, y of point coordinates of the Koch snowflake.\n",
    "\n",
    "    Parameters\n",
    "    ----------\n",
    "    order : int\n",
    "        The recursion depth.\n",
    "    scale : float\n",
    "        The extent of the snowflake (edge length of the base triangle).\n",
    "    \"\"\"\n",
    "    def _koch_snowflake_complex(order):\n",
    "        if order == 0:\n",
    "            # initial triangle\n",
    "            angles = np.array([0, 120, 240]) + 90\n",
    "            return scale / np.sqrt(3) * np.exp(np.deg2rad(angles) * 1j)\n",
    "        else:\n",
    "            ZR = 0.5 - 0.5j * np.sqrt(3) / 3\n",
    "\n",
    "            p1 = _koch_snowflake_complex(order - 1)  # start points\n",
    "            p2 = np.roll(p1, shift=-1)  # end points\n",
    "            dp = p2 - p1  # connection vectors\n",
    "\n",
    "            new_points = np.empty(len(p1) * 4, dtype=np.complex128)\n",
    "            new_points[::4] = p1\n",
    "            new_points[1::4] = p1 + dp / 3\n",
    "            new_points[2::4] = p1 + dp * ZR\n",
    "            new_points[3::4] = p1 + dp / 3 * 2\n",
    "            return new_points\n",
    "\n",
    "    points = _koch_snowflake_complex(order)\n",
    "    x, y = points.real, points.imag\n",
    "    return x, y"
   ]
  },
  {
   "cell_type": "code",
   "execution_count": null,
   "metadata": {},
   "outputs": [],
   "source": [
    "x, y = koch_snowflake(order=5)\n",
    "\n",
    "plt.figure(figsize=(8, 8))\n",
    "plt.axis('equal')\n",
    "plt.fill(x, y)\n",
    "plt.show()"
   ]
  },
  {
   "cell_type": "code",
   "execution_count": null,
   "metadata": {},
   "outputs": [],
   "source": [
    "x, y = koch_snowflake(order=2)\n",
    "\n",
    "fig, (ax1, ax2, ax3) = plt.subplots(1, 3, figsize=(9, 3),\n",
    "                                    subplot_kw={'aspect': 'equal'})\n",
    "ax1.fill(x, y)\n",
    "ax2.fill(x, y, facecolor='lightsalmon', edgecolor='orangered', linewidth=3)\n",
    "ax3.fill(x, y, facecolor='none', edgecolor='purple', linewidth=3)\n",
    "\n",
    "plt.show()"
   ]
  },
  {
   "cell_type": "code",
   "execution_count": null,
   "metadata": {},
   "outputs": [],
   "source": [
    "x = np.arange(0.0, 2, 0.01)\n",
    "y1 = np.sin(2 * np.pi * x)\n",
    "y2 = 0.8 * np.sin(4 * np.pi * x)\n",
    "\n",
    "fig, (ax1, ax2, ax3) = plt.subplots(3, 1, sharex=True, figsize=(6, 6))\n",
    "\n",
    "ax1.fill_between(x, y1)\n",
    "ax1.set_title('fill between y1 and 0')\n",
    "\n",
    "ax2.fill_between(x, y1, 1)\n",
    "ax2.set_title('fill between y1 and 1')\n",
    "\n",
    "ax3.fill_between(x, y1, y2)\n",
    "ax3.set_title('fill between y1 and y2')\n",
    "ax3.set_xlabel('x')\n",
    "fig.tight_layout()"
   ]
  },
  {
   "cell_type": "markdown",
   "metadata": {},
   "source": [
    "### Выборочное заполнение горизонтальных областей"
   ]
  },
  {
   "cell_type": "code",
   "execution_count": null,
   "metadata": {},
   "outputs": [],
   "source": [
    "x = np.array([0, 1, 2, 3])\n",
    "y1 = np.array([0.8, 0.8, 0.2, 0.2])\n",
    "y2 = np.array([0, 0, 1, 1])\n",
    "\n",
    "fig, (ax1, ax2) = plt.subplots(2, 1, sharex=True)\n",
    "\n",
    "ax1.set_title('interpolation=False')\n",
    "ax1.plot(x, y1, 'o--')\n",
    "ax1.plot(x, y2, 'o--')\n",
    "ax1.fill_between(x, y1, y2, where=(y1 > y2), color='C0', alpha=0.3)\n",
    "ax1.fill_between(x, y1, y2, where=(y1 < y2), color='C1', alpha=0.3)\n",
    "\n",
    "ax2.set_title('interpolation=True')\n",
    "ax2.plot(x, y1, 'o--')\n",
    "ax2.plot(x, y2, 'o--')\n",
    "ax2.fill_between(x, y1, y2, where=(y1 > y2), color='C0', alpha=0.3,\n",
    "                 interpolate=True)\n",
    "ax2.fill_between(x, y1, y2, where=(y1 <= y2), color='C1', alpha=0.3,\n",
    "                 interpolate=True)\n",
    "fig.tight_layout()"
   ]
  },
  {
   "cell_type": "code",
   "execution_count": null,
   "metadata": {},
   "outputs": [],
   "source": [
    "X = np.linspace(-10, 10)\n",
    "Y1 = 5*X**2 - 250\n",
    "Y2 = X**3\n",
    "plt.fill_between(X, Y1, Y2, color='blue', alpha=1.00)\n",
    "plt.show()"
   ]
  },
  {
   "cell_type": "code",
   "execution_count": null,
   "metadata": {},
   "outputs": [],
   "source": [
    "X = np.linspace(-10, 10)\n",
    "Y1 = 5*X**2 - 250\n",
    "Y2 = X**3\n",
    "\n",
    "plt.fill_between(X, Y1, Y2, where=X < 2.5)\n",
    "plt.xlim(-11, 11)\n",
    "\n",
    "plt.show()"
   ]
  },
  {
   "cell_type": "markdown",
   "metadata": {},
   "source": [
    "### Заполнение области между двумя вертикальными линиями"
   ]
  },
  {
   "cell_type": "code",
   "execution_count": null,
   "metadata": {},
   "outputs": [],
   "source": [
    "x = np.arange (0,10,0.1)\n",
    "y = np.arange (10,20,0.1)\n",
    "plt.plot (x,y)\n",
    "plt.fill_betweenx (y, 2, 4, color='red', alpha= .5 ) "
   ]
  },
  {
   "cell_type": "code",
   "execution_count": null,
   "metadata": {},
   "outputs": [],
   "source": [
    "y = np.arange(0.0, 2, 0.01)\n",
    "x1 = np.sin(2 * np.pi * y)\n",
    "x2 = 1.2 * np.sin(4 * np.pi * y)\n",
    "\n",
    "fig, [ax1, ax2, ax3] = plt.subplots(1, 3, sharey=True, figsize=(6, 6))\n",
    "\n",
    "ax1.fill_betweenx(y, 0, x1)\n",
    "ax1.set_title('between (x1, 0)')\n",
    "\n",
    "ax2.fill_betweenx(y, x1, 1)\n",
    "ax2.set_title('between (x1, 1)')\n",
    "ax2.set_xlabel('x')\n",
    "\n",
    "ax3.fill_betweenx(y, x1, x2)\n",
    "ax3.set_title('between (x1, x2)')"
   ]
  },
  {
   "cell_type": "markdown",
   "metadata": {},
   "source": [
    "# Рисование фигур на графиках"
   ]
  },
  {
   "cell_type": "markdown",
   "metadata": {},
   "source": [
    "Пакет matplotlib позволяет рисовать произвольные фигуры прямо в координатных осях. Это очень удобно, когда нужно добавить нестандартную графическую информацию к отображаемому графику. Давайте посмотрим как это делается."
   ]
  },
  {
   "cell_type": "markdown",
   "metadata": {},
   "source": [
    "Для начала рассмотрим создание ломаной линии с помощью класса Line2D:"
   ]
  },
  {
   "cell_type": "code",
   "execution_count": null,
   "metadata": {},
   "outputs": [],
   "source": [
    "from matplotlib.lines import Line2D"
   ]
  },
  {
   "cell_type": "markdown",
   "metadata": {},
   "source": [
    "Объект ломаной создается путем передачи списка координат по x и y конструктору этого класса:"
   ]
  },
  {
   "cell_type": "code",
   "execution_count": null,
   "metadata": {},
   "outputs": [],
   "source": [
    "l1 = Line2D([1, 2, 3], [1, 2, 3])"
   ]
  },
  {
   "cell_type": "markdown",
   "metadata": {},
   "source": [
    "Затем, вызвать метод add_line() и прописать граничные значения, чтобы линия была видна в поле рисования графика:"
   ]
  },
  {
   "cell_type": "code",
   "execution_count": null,
   "metadata": {},
   "outputs": [],
   "source": [
    "fig, ax = plt.subplots(subplot_kw=dict(aspect='equal'))\n",
    "ax.add_line(l1)\n",
    "ax.set(xlim=[0, 4], ylim=[0, 4])"
   ]
  },
  {
   "cell_type": "markdown",
   "metadata": {},
   "source": [
    "Классы других стандартных геометрических фигур находятся в модуле:"
   ]
  },
  {
   "cell_type": "code",
   "execution_count": null,
   "metadata": {},
   "outputs": [],
   "source": [
    "from matplotlib.patches import *"
   ]
  },
  {
   "cell_type": "markdown",
   "metadata": {},
   "source": [
    "Полный список классов можно посмотреть в официальной документации:\n",
    "\n",
    "https://matplotlib.org/stable/api/patches_api.html\n",
    "\n",
    "Например, можно нарисовать эллипс с помощью класса Ellipse:"
   ]
  },
  {
   "cell_type": "code",
   "execution_count": null,
   "metadata": {},
   "outputs": [],
   "source": [
    "el = Ellipse((0, 0), 10, 20, facecolor='r', alpha=0.5)"
   ]
  },
  {
   "cell_type": "markdown",
   "metadata": {},
   "source": [
    "Здесь мы в начале указываем координаты расположения фигуры, а затем, ее ширину и высоту. Далее, с помощью параметра facecolor делаем заливку зеленого цвета."
   ]
  },
  {
   "cell_type": "code",
   "execution_count": null,
   "metadata": {},
   "outputs": [],
   "source": [
    "fig, ax = plt.subplots(subplot_kw=dict(aspect='equal'))\n",
    "ax.add_artist(el)\n",
    "ax.set(xlim=[-20, 20], ylim=[-20, 20])"
   ]
  },
  {
   "cell_type": "markdown",
   "metadata": {},
   "source": [
    "Построим тот же эллипс, но добавим к нему стрелку:"
   ]
  },
  {
   "cell_type": "code",
   "execution_count": null,
   "metadata": {},
   "outputs": [],
   "source": [
    "el = Ellipse((0, 0), 10, 20, facecolor='r', alpha=0.5)\n",
    "\n",
    "fig, ax = plt.subplots(subplot_kw=dict(aspect='equal'))\n",
    "ax.add_artist(el)\n",
    "el.set_clip_box(ax.bbox)\n",
    "ax.annotate('the top',\n",
    "            xy=(np.pi/2., 10.),      # theta, radius\n",
    "            xytext=(np.pi/3, 20.),   # theta, radius\n",
    "            xycoords='polar',\n",
    "            textcoords='polar',\n",
    "            arrowprops=dict(facecolor='black', shrink=0.05),\n",
    "            horizontalalignment='left',\n",
    "            verticalalignment='bottom',\n",
    "            clip_on=True)  # clip to the axes bounding box\n",
    "\n",
    "ax.set(xlim=[-20, 20], ylim=[-20, 20])"
   ]
  },
  {
   "cell_type": "markdown",
   "metadata": {},
   "source": [
    "Аналогично можно использовать любой другой класс модуля matplotlib.patches."
   ]
  }
 ],
 "metadata": {
  "celltoolbar": "Hide code",
  "kernelspec": {
   "display_name": "Python 3",
   "language": "python",
   "name": "python3"
  },
  "language_info": {
   "codemirror_mode": {
    "name": "ipython",
    "version": 3
   },
   "file_extension": ".py",
   "mimetype": "text/x-python",
   "name": "python",
   "nbconvert_exporter": "python",
   "pygments_lexer": "ipython3",
   "version": "3.11.7"
  }
 },
 "nbformat": 4,
 "nbformat_minor": 2
}
